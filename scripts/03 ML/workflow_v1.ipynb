{
 "cells": [
  {
   "cell_type": "code",
   "execution_count": 1,
   "metadata": {},
   "outputs": [],
   "source": [
    "import pandas as pd\n",
    "import matplotlib.pyplot as plt\n",
    "import numpy as np\n",
    "import seaborn as sns\n",
    "from sklearn.model_selection import train_test_split, RandomizedSearchCV,GridSearchCV\n",
    "from sklearn.ensemble import RandomForestClassifier\n",
    "from sklearn.metrics import classification_report,confusion_matrix, accuracy_score\n",
    "from sklearn.metrics import ConfusionMatrixDisplay\n",
    "import os\n",
    "%matplotlib inline\n",
    "from PIL import Image\n",
    "import re\n",
    "import glob\n",
    "from datetime import datetime as dt\n",
    "import math\n",
    "#import packages\n",
    "import pytesseract\n",
    "#Set tesseract location\n",
    "pytesseract.pytesseract.tesseract_cmd = r\"C:\\Program Files\\Tesseract-OCR\\tesseract.exe\" \n",
    "from datetime import date, datetime\n",
    "import cv2"
   ]
  },
  {
   "cell_type": "code",
   "execution_count": 6,
   "metadata": {},
   "outputs": [],
   "source": [
    "#set working directory \n",
    "import os\n",
    "os.chdir(\"C:/Users/athellma/OneDrive - University of North Carolina at Chapel Hill/Documents/Duke University/Research/_HBEF/CameraTrapAnalysis/hbwater_cameratrap_pheno\")"
   ]
  },
  {
   "cell_type": "markdown",
   "metadata": {},
   "source": [
    "## Step 1: Wrangle the ROI images \n",
    "First, add filename data: filename, temperature, date, time"
   ]
  },
  {
   "cell_type": "code",
   "execution_count": 2,
   "metadata": {},
   "outputs": [
    {
     "name": "stderr",
     "output_type": "stream",
     "text": [
      "<>:19: SyntaxWarning: invalid escape sequence '\\d'\n",
      "<>:19: SyntaxWarning: invalid escape sequence '\\d'\n",
      "C:\\Users\\athellma\\AppData\\Local\\Temp\\ipykernel_8988\\1453349667.py:19: SyntaxWarning: invalid escape sequence '\\d'\n",
      "  temp_pattern = \"\\d\\dF\" # eg 37F3C or 30F-1C\n"
     ]
    }
   ],
   "source": [
    "def extract_temperature(pic_address):\n",
    "    '''\n",
    "    Extract temperature from picture file.\n",
    "\n",
    "    From the middle of each picture file, the time stamp is read as image using cv2. It is then converted to a string.\n",
    "    text which is then checked for format and subsequently returned through temp_format.\n",
    "\n",
    "    Parameters\n",
    "    ----------\n",
    "    pic_address : full source address of current picture file.\n",
    "    Returns\n",
    "    -------\n",
    "    temp_format.group(0) : unaltered temperature from bottom of the photo as a string.\n",
    "    '''\n",
    "\n",
    "    img = cv2.imread(pic_address) #read as an image\n",
    "\n",
    "    # check if the timestamp is the correct format\n",
    "    temp_pattern = \"\\d\\dF\" # eg 37F3C or 30F-1C\n",
    "\n",
    "    loop = 5\n",
    "    size_extension=0\n",
    "    x,y,z = np.shape(img)\n",
    "    x = (x//1000)*1000\n",
    "\n",
    "    y = (y//1000)*1000\n",
    "    # print(x,y,z)\n",
    "    while loop>0:\n",
    "        ts = img[2300 - size_extension:, 1400-size_extension:, :] #(change start values manually if sizing conventions change!)\n",
    "        text = pytesseract.image_to_string(ts)\n",
    "        temp_format = re.search(temp_pattern,text)\n",
    "        if temp_format:\n",
    "            # found temperature, return\n",
    "            break\n",
    "        ts_2 = img[2430 - size_extension:, 1565-size_extension:, :] #(change start values manually if sizing conventions change!)\n",
    "        text_2= pytesseract.image_to_string(ts_2)\n",
    "        temp_format = re.search(temp_pattern,text_2)\n",
    "        if temp_format:\n",
    "        # found temperature, return\n",
    "            break\n",
    "        size_extension+=50\n",
    "        loop-=1\n",
    "\n",
    "    if loop ==0:      \n",
    "      # reached end of loop without finding correct timestamp\n",
    "        return np.nan\n",
    "        # return None\n",
    "    \n",
    "    return temp_format.group(0)"
   ]
  },
  {
   "cell_type": "code",
   "execution_count": 3,
   "metadata": {},
   "outputs": [],
   "source": [
    "def prep_new_data(df):\n",
    "    \"\"\"\n",
    "    wrangle image data with filename attributes \n",
    "    needs an input of raw_images_path and inverted_images_path\n",
    "\n",
    "    \"\"\"\n",
    "    df[\"filename\"] = df[\"filename_inverted\"].str.replace(\"invert_\", \"\")\n",
    "    # dictionary of filename data\n",
    "    filename_data = {\n",
    "        'system': [],\n",
    "        'watershed': [],\n",
    "        'date': [],\n",
    "        'time':[],\n",
    "        'pic_id': [],\n",
    "    }\n",
    "\n",
    "    # loop through filename string to add filename data\n",
    "    for i in range(len(df['filename'])): #used to be file name now invert \n",
    "        # split contents by underscore\n",
    "        file_items = df['filename_inverted'][i].split('_')\n",
    "\n",
    "        # add system column for 'hbwtr'\n",
    "        filename_data['system'].append(file_items[1])\n",
    "        # add watershed olumn, 'w1', 'w2', etc.\n",
    "        filename_data['watershed'].append(file_items[2])\n",
    "        # add date column\n",
    "        filename_data['date'].append(\n",
    "                                    # modify integer date to date format, MM/DD/YYYY\n",
    "                                    dt.strptime(file_items[3], '%Y%m%d').strftime('%m/%d/%Y')\n",
    "                                    )\n",
    "        filename_data['time'].append(\n",
    "                                    #modify interger to time format\n",
    "                                    dt.strptime(file_items[4][:-4],'%H%M%S').strftime('%H:%M:%S')\n",
    "                                    )\n",
    "        # add picture id number\n",
    "        filename_data['pic_id'].append(file_items[4])\n",
    "\n",
    "\n",
    "    # create columns of this data in dataframe\n",
    "    for variable in filename_data.keys():\n",
    "        df[variable] = filename_data[variable]\n",
    "\n",
    "    #create image dictionary and temperature dictionary\n",
    "    image_dict = {}\n",
    "    temp_dict = {}\n",
    "\n",
    "    def my_func(row):\n",
    "        if row[\"filename\"] in image_dict:\n",
    "            return\n",
    "        path =  raw_images_path + row[\"filename\"] # sample path to example data folder with all images, USED TO BE EXAMPLE_PATH/\n",
    "        # note to Audrey: can you change this to read the images recursively (e.g. find file regardless of path)\n",
    "        img= np.asarray(Image.open(path)) #note to Audrey: read in raw images, not inverted images?\n",
    "        image_dict[row[\"filename\"]] = img\n",
    "        temp_dict[row[\"filename\"]] = extract_temperature(path)\n",
    "        print(row[\"filename\"])\n",
    "    _= df.apply(lambda c: my_func(c), axis =1)\n",
    "\n",
    "    #add temperature data to df\n",
    "    df[\"temperature\"] = df.apply(lambda row: temp_dict[row[\"filename\"]], axis = 1) #added axis = 1\n",
    "    df['temperature'] = df.temperature.str.extract(r'(\\d+[.\\d]*)')    \n",
    "    # drop all missing values\n",
    "    df = df.fillna(value=np.nan)\n",
    "    df = df.dropna() #this removes missing values\n",
    "    df = df.drop_duplicates()\n",
    "\n",
    "    #part 2: add seasons \n",
    "    temp = df\n",
    "    Y = 2000 # dummy leap year to allow input X-02-29 (leap day)\n",
    "    seasons = [('winter', (date(Y,  1,  1),  date(Y,  3, 20))),\n",
    "            ('spring', (date(Y,  3, 21),  date(Y,  6, 20))),\n",
    "            ('summer', (date(Y,  6, 21),  date(Y,  9, 22))),\n",
    "            ('autumn', (date(Y,  9, 23),  date(Y, 12, 20))),\n",
    "            ('winter', (date(Y, 12, 21),  date(Y, 12, 31)))]\n",
    "\n",
    "    def get_season(now):\n",
    "        if isinstance(now, datetime):\n",
    "            now = now.date()\n",
    "        now = now.replace(year=Y)\n",
    "        return next(season for season, (start, end) in seasons\n",
    "                    if start <= now <= end)\n",
    "\n",
    "    temp.date = pd.to_datetime(temp.date)\n",
    "    # temp.time = pd.to_datetime(temp.time)\n",
    "    temp[\"year\"] = temp.date.dt.year\n",
    "    temp[\"week\"] =temp.date.dt.isocalendar().week\n",
    "    temp[\"month\"] = temp.date.dt.month\n",
    "    temp[\"season\"] = temp.date.apply(lambda x: get_season(x))\n",
    "    temp = pd.get_dummies(temp, columns=[\"season\"], prefix=[\"season\"])\n",
    "   \n",
    "\n",
    "    return temp"
   ]
  },
  {
   "cell_type": "code",
   "execution_count": 7,
   "metadata": {},
   "outputs": [],
   "source": [
    "invert_images_path = './data/munged/W1/WY21/'\n",
    "raw_images_path = './data/munged/W1/'\n",
    "#make directories \n",
    "save_images_path = './data/derived/W1/WY21/'\n",
    "save_files_path = './data/derived/W1/'\n",
    "\n",
    "ext_drive_path = 'F:/CT_temp/'\n",
    "\n",
    "if not os.path.exists(save_images_path): \n",
    "    os.makedirs(save_images_path)\n",
    "    print(\"save images directory created\")\n",
    "if not os.path.exists(save_files_path): \n",
    "    os.makedirs(save_files_path)\n",
    "    print(\"save files directory created\")"
   ]
  },
  {
   "cell_type": "code",
   "execution_count": 8,
   "metadata": {},
   "outputs": [],
   "source": [
    "#os.rename(invert_images_path + \"Hbwtr_w1_20201001_120348.jpg\", invert_images_path + \"invert_Hbwtr_w1_20201001_120348.jpg\")\n",
    "# rename files to make sure they are inverted \n",
    "for filename in os.listdir(invert_images_path):\n",
    "    if filename.startswith(\"Hbwtr\"):\n",
    "        #print(filename)\n",
    "        os.rename(invert_images_path + filename, invert_images_path + \"invert_\" + filename)"
   ]
  },
  {
   "cell_type": "code",
   "execution_count": 9,
   "metadata": {},
   "outputs": [
    {
     "name": "stdout",
     "output_type": "stream",
     "text": [
      "                       filename_inverted\n",
      "0    invert_Hbwtr_w1_20201001_120348.jpg\n",
      "1    invert_Hbwtr_w1_20201002_120347.jpg\n",
      "2    invert_Hbwtr_w1_20201003_115846.jpg\n",
      "3    invert_Hbwtr_w1_20201004_115845.jpg\n",
      "4    invert_Hbwtr_w1_20201005_115844.jpg\n",
      "..                                   ...\n",
      "402  invert_Hbwtr_w1_20211028_120000.JPG\n",
      "403  invert_Hbwtr_w1_20211028_120500.JPG\n",
      "404  invert_Hbwtr_w1_20211029_120459.JPG\n",
      "405  invert_Hbwtr_w1_20211030_115958.JPG\n",
      "406  invert_Hbwtr_w1_20211031_115957.JPG\n",
      "\n",
      "[407 rows x 1 columns]\n"
     ]
    }
   ],
   "source": [
    "#create animage list with all inverted images for processing \n",
    "image_list = [os.path.basename(p) for p in glob.glob(invert_images_path + \"*.JPG\")]\n",
    "df = pd.DataFrame(data = image_list, columns=['filename_inverted'])\n",
    "\n",
    "print(df)"
   ]
  },
  {
   "cell_type": "code",
   "execution_count": 22,
   "metadata": {},
   "outputs": [
    {
     "name": "stdout",
     "output_type": "stream",
     "text": [
      "Hbwtr_w1_20201001_120348.jpg\n",
      "Hbwtr_w1_20201002_120347.jpg\n",
      "Hbwtr_w1_20201003_115846.jpg\n",
      "Hbwtr_w1_20201004_115845.jpg\n",
      "Hbwtr_w1_20201005_115844.jpg\n",
      "Hbwtr_w1_20201006_115843.jpg\n",
      "Hbwtr_w1_20201007_115842.jpg\n",
      "Hbwtr_w1_20201009_120340.jpg\n",
      "Hbwtr_w1_20201010_115839.jpg\n",
      "Hbwtr_w1_20201011_115838.jpg\n",
      "Hbwtr_w1_20201012_120337.jpg\n",
      "Hbwtr_w1_20201013_115836.jpg\n",
      "Hbwtr_w1_20201014_115835.jpg\n",
      "Hbwtr_w1_20201015_120334.jpg\n",
      "Hbwtr_w1_20201016_120333.jpg\n",
      "Hbwtr_w1_20201017_120332.jpg\n",
      "Hbwtr_w1_20201018_120331.jpg\n",
      "Hbwtr_w1_20201019_120330.jpg\n",
      "Hbwtr_w1_20201020_120329.jpg\n",
      "Hbwtr_w1_20201021_115828.jpg\n",
      "Hbwtr_w1_20201022_115827.jpg\n",
      "Hbwtr_w1_20201023_115826.jpg\n",
      "Hbwtr_w1_20201024_115825.jpg\n",
      "Hbwtr_w1_20201025_120324.jpg\n",
      "Hbwtr_w1_20201026_115823.jpg\n",
      "Hbwtr_w1_20201027_115822.jpg\n",
      "Hbwtr_w1_20201028_115821.jpg\n",
      "Hbwtr_w1_20201029_115820.jpg\n",
      "Hbwtr_w1_20201030_115819.jpg\n",
      "Hbwtr_w1_20201031_115817.jpg\n",
      "Hbwtr_w1_20201101_115817.jpg\n",
      "Hbwtr_w1_20201102_115815.jpg\n",
      "Hbwtr_w1_20201103_115814.jpg\n",
      "Hbwtr_w1_20201104_115813.jpg\n",
      "Hbwtr_w1_20201105_115812.jpg\n",
      "Hbwtr_w1_20201106_115811.jpg\n",
      "Hbwtr_w1_20201107_115809.JPG\n",
      "Hbwtr_w1_20201108_115808.JPG\n",
      "Hbwtr_w1_20201109_115807.JPG\n",
      "Hbwtr_w1_20201110_115806.JPG\n",
      "Hbwtr_w1_20201111_115805.JPG\n",
      "Hbwtr_w1_20201112_120304.JPG\n",
      "Hbwtr_w1_20201113_115303.JPG\n",
      "Hbwtr_w1_20201114_120002.JPG\n",
      "Hbwtr_w1_20201115_120001.JPG\n",
      "Hbwtr_w1_20201116_120000.JPG\n",
      "Hbwtr_w1_20201117_115959.JPG\n",
      "Hbwtr_w1_20201118_115958.JPG\n",
      "Hbwtr_w1_20201119_115957.JPG\n",
      "Hbwtr_w1_20201120_115956.JPG\n",
      "Hbwtr_w1_20201121_115955.JPG\n",
      "Hbwtr_w1_20201122_115954.JPG\n",
      "Hbwtr_w1_20201123_115952.JPG\n",
      "Hbwtr_w1_20201124_115952.JPG\n",
      "Hbwtr_w1_20201125_115950.JPG\n",
      "Hbwtr_w1_20201126_120449.JPG\n",
      "Hbwtr_w1_20201127_120448.JPG\n",
      "Hbwtr_w1_20201128_115947.JPG\n",
      "Hbwtr_w1_20201129_115946.JPG\n",
      "Hbwtr_w1_20201130_115945.JPG\n",
      "Hbwtr_w1_20201201_120444.JPG\n",
      "Hbwtr_w1_20201202_115943.JPG\n",
      "Hbwtr_w1_20201203_115942.JPG\n",
      "Hbwtr_w1_20201204_115941.JPG\n",
      "Hbwtr_w1_20201204_151531.JPG\n",
      "Hbwtr_w1_20201205_115940.JPG\n",
      "Hbwtr_w1_20201206_115939.JPG\n",
      "Hbwtr_w1_20201207_115938.JPG\n",
      "Hbwtr_w1_20201208_115937.JPG\n",
      "Hbwtr_w1_20201209_115936.JPG\n",
      "Hbwtr_w1_20201210_115934.JPG\n",
      "Hbwtr_w1_20201211_115933.JPG\n",
      "Hbwtr_w1_20201212_115932.JPG\n",
      "Hbwtr_w1_20201213_115931.JPG\n",
      "Hbwtr_w1_20201214_115930.JPG\n",
      "Hbwtr_w1_20201215_115929.JPG\n",
      "Hbwtr_w1_20201216_115928.JPG\n",
      "Hbwtr_w1_20201217_115927.JPG\n",
      "Hbwtr_w1_20201218_115926.JPG\n",
      "Hbwtr_w1_20201219_115925.JPG\n",
      "Hbwtr_w1_20201220_115924.JPG\n",
      "Hbwtr_w1_20201221_115923.JPG\n",
      "Hbwtr_w1_20201222_115922.JPG\n",
      "Hbwtr_w1_20201223_115921.JPG\n",
      "Hbwtr_w1_20201224_115919.JPG\n",
      "Hbwtr_w1_20201225_115918.JPG\n",
      "Hbwtr_w1_20201226_115917.JPG\n",
      "Hbwtr_w1_20201227_120416.JPG\n",
      "Hbwtr_w1_20201228_115915.JPG\n",
      "Hbwtr_w1_20201229_115914.JPG\n",
      "Hbwtr_w1_20201230_115913.JPG\n",
      "Hbwtr_w1_20201231_115912.JPG\n",
      "Hbwtr_w1_20210101_120411.JPG\n",
      "Hbwtr_w1_20210102_115910.JPG\n",
      "Hbwtr_w1_20210103_120409.JPG\n",
      "Hbwtr_w1_20210104_115908.JPG\n",
      "Hbwtr_w1_20210105_115907.JPG\n",
      "Hbwtr_w1_20210106_115905.JPG\n",
      "Hbwtr_w1_20210107_115904.JPG\n",
      "Hbwtr_w1_20210108_115903.JPG\n",
      "Hbwtr_w1_20210109_115902.JPG\n",
      "Hbwtr_w1_20210110_115901.JPG\n",
      "Hbwtr_w1_20210111_120400.JPG\n",
      "Hbwtr_w1_20210112_115959.JPG\n",
      "Hbwtr_w1_20210113_115858.JPG\n",
      "Hbwtr_w1_20210114_115857.JPG\n",
      "Hbwtr_w1_20210115_115856.JPG\n",
      "Hbwtr_w1_20210116_115855.JPG\n",
      "Hbwtr_w1_20210117_115854.JPG\n",
      "Hbwtr_w1_20210118_115852.JPG\n",
      "Hbwtr_w1_20210119_120352.JPG\n",
      "Hbwtr_w1_20210120_120351.JPG\n",
      "Hbwtr_w1_20210121_115849.JPG\n",
      "Hbwtr_w1_20210122_115848.JPG\n",
      "Hbwtr_w1_20210123_115847.JPG\n",
      "Hbwtr_w1_20210124_115846.JPG\n",
      "Hbwtr_w1_20210125_115845.JPG\n",
      "Hbwtr_w1_20210126_115844.JPG\n",
      "Hbwtr_w1_20210127_120343.JPG\n",
      "Hbwtr_w1_20210128_115842.JPG\n",
      "Hbwtr_w1_20210129_115841.JPG\n",
      "Hbwtr_w1_20210130_115840.JPG\n",
      "Hbwtr_w1_20210131_115838.JPG\n",
      "Hbwtr_w1_20210201_115837.JPG\n",
      "Hbwtr_w1_20210202_115836.JPG\n",
      "Hbwtr_w1_20210203_115835.jpg\n",
      "Hbwtr_w1_20210204_115834.jpg\n",
      "Hbwtr_w1_20210205_115833.JPG\n",
      "Hbwtr_w1_20210206_115832.jpg\n",
      "Hbwtr_w1_20210207_115831.JPG\n",
      "Hbwtr_w1_20210208_115830.JPG\n",
      "Hbwtr_w1_20210209_115829.jpg\n",
      "Hbwtr_w1_20210210_120328.JPG\n",
      "Hbwtr_w1_20210211_115827.JPG\n",
      "Hbwtr_w1_20210212_115825.JPG\n",
      "Hbwtr_w1_20210213_115824.JPG\n",
      "Hbwtr_w1_20210214_115823.JPG\n",
      "Hbwtr_w1_20210215_115822.JPG\n",
      "Hbwtr_w1_20210216_115821.JPG\n",
      "Hbwtr_w1_20210217_115820.JPG\n",
      "Hbwtr_w1_20210218_115819.JPG\n",
      "Hbwtr_w1_20210219_115818.JPG\n",
      "Hbwtr_w1_20210220_115817.JPG\n",
      "Hbwtr_w1_20210221_115816.JPG\n",
      "Hbwtr_w1_20210222_115815.JPG\n",
      "Hbwtr_w1_20210223_115814.JPG\n",
      "Hbwtr_w1_20210224_115813.JPG\n",
      "Hbwtr_w1_20210225_120311.JPG\n",
      "Hbwtr_w1_20210226_115810.JPG\n",
      "Hbwtr_w1_20210227_115809.jpg\n",
      "Hbwtr_w1_20210228_115808.JPG\n",
      "Hbwtr_w1_20210301_115807.JPG\n",
      "Hbwtr_w1_20210302_115806.JPG\n",
      "Hbwtr_w1_20210303_115805.jpg\n",
      "Hbwtr_w1_20210304_115804.JPG\n",
      "Hbwtr_w1_20210305_115803.JPG\n",
      "Hbwtr_w1_20210305_120503.JPG\n",
      "Hbwtr_w1_20210306_120502.JPG\n",
      "Hbwtr_w1_20210307_120001.JPG\n",
      "Hbwtr_w1_20210308_120000.JPG\n",
      "Hbwtr_w1_20210309_115959.JPG\n",
      "Hbwtr_w1_20210310_115958.JPG\n",
      "Hbwtr_w1_20210311_115957.JPG\n",
      "Hbwtr_w1_20210312_115956.JPG\n",
      "Hbwtr_w1_20210313_115954.JPG\n",
      "Hbwtr_w1_20210314_115953.JPG\n",
      "Hbwtr_w1_20210315_115952.JPG\n",
      "Hbwtr_w1_20210316_115951.JPG\n",
      "Hbwtr_w1_20210317_115950.JPG\n",
      "Hbwtr_w1_20210318_120449.JPG\n",
      "Hbwtr_w1_20210319_115948.JPG\n",
      "Hbwtr_w1_20210320_115947.JPG\n",
      "Hbwtr_w1_20210321_115946.JPG\n",
      "Hbwtr_w1_20210322_115945.JPG\n",
      "Hbwtr_w1_20210323_115944.JPG\n",
      "Hbwtr_w1_20210324_120443.JPG\n",
      "Hbwtr_w1_20210325_115942.JPG\n",
      "Hbwtr_w1_20210326_115941.JPG\n",
      "Hbwtr_w1_20210327_115940.JPG\n",
      "Hbwtr_w1_20210328_115939.JPG\n",
      "Hbwtr_w1_20210329_115938.JPG\n",
      "Hbwtr_w1_20210330_115937.JPG\n",
      "Hbwtr_w1_20210331_115936.JPG\n",
      "Hbwtr_w1_20210401_115935.JPG\n",
      "Hbwtr_w1_20210402_115934.JPG\n",
      "Hbwtr_w1_20210403_115933.JPG\n",
      "Hbwtr_w1_20210404_115931.JPG\n",
      "Hbwtr_w1_20210405_115930.JPG\n",
      "Hbwtr_w1_20210406_115929.JPG\n",
      "Hbwtr_w1_20210407_115928.JPG\n",
      "Hbwtr_w1_20210408_120427.JPG\n",
      "Hbwtr_w1_20210409_115926.JPG\n",
      "Hbwtr_w1_20210410_115925.JPG\n",
      "Hbwtr_w1_20210411_115924.JPG\n",
      "Hbwtr_w1_20210412_115923.JPG\n",
      "Hbwtr_w1_20210413_115922.JPG\n",
      "Hbwtr_w1_20210414_115921.JPG\n",
      "Hbwtr_w1_20210415_115920.JPG\n",
      "Hbwtr_w1_20210415_120420.JPG\n",
      "Hbwtr_w1_20210416_115919.JPG\n",
      "Hbwtr_w1_20210417_115918.JPG\n",
      "Hbwtr_w1_20210418_120417.JPG\n",
      "Hbwtr_w1_20210419_115916.JPG\n",
      "Hbwtr_w1_20210420_115915.JPG\n",
      "Hbwtr_w1_20210421_120414.JPG\n",
      "Hbwtr_w1_20210422_115913.JPG\n",
      "Hbwtr_w1_20210423_115912.JPG\n",
      "Hbwtr_w1_20210424_115911.JPG\n",
      "Hbwtr_w1_20210425_115910.JPG\n",
      "Hbwtr_w1_20210426_115909.JPG\n",
      "Hbwtr_w1_20210427_120408.JPG\n",
      "Hbwtr_w1_20210428_115907.JPG\n",
      "Hbwtr_w1_20210429_115906.JPG\n",
      "Hbwtr_w1_20210430_115905.JPG\n",
      "Hbwtr_w1_20210501_115904.JPG\n",
      "Hbwtr_w1_20210502_115903.JPG\n",
      "Hbwtr_w1_20210503_115901.JPG\n",
      "Hbwtr_w1_20210504_115901.JPG\n",
      "Hbwtr_w1_20210505_115900.JPG\n",
      "Hbwtr_w1_20210506_120359.JPG\n",
      "Hbwtr_w1_20210507_115857.JPG\n",
      "Hbwtr_w1_20210508_115856.JPG\n",
      "Hbwtr_w1_20210509_115855.JPG\n",
      "Hbwtr_w1_20210510_115854.JPG\n",
      "Hbwtr_w1_20210511_115853.JPG\n",
      "Hbwtr_w1_20210512_115852.JPG\n",
      "Hbwtr_w1_20210513_115851.JPG\n",
      "Hbwtr_w1_20210514_115850.JPG\n",
      "Hbwtr_w1_20210515_115849.JPG\n",
      "Hbwtr_w1_20210516_120348.JPG\n",
      "Hbwtr_w1_20210517_115847.JPG\n",
      "Hbwtr_w1_20210518_115846.JPG\n",
      "Hbwtr_w1_20210519_115845.JPG\n",
      "Hbwtr_w1_20210520_115844.JPG\n",
      "Hbwtr_w1_20210521_120343.JPG\n",
      "Hbwtr_w1_20210522_115842.JPG\n",
      "Hbwtr_w1_20210523_120341.JPG\n",
      "Hbwtr_w1_20210524_115840.JPG\n",
      "Hbwtr_w1_20210525_115839.JPG\n",
      "Hbwtr_w1_20210526_115838.JPG\n",
      "Hbwtr_w1_20210527_115837.JPG\n",
      "Hbwtr_w1_20210528_115336.JPG\n",
      "Hbwtr_w1_20210529_115835.JPG\n",
      "Hbwtr_w1_20210530_115834.JPG\n",
      "Hbwtr_w1_20210531_115833.JPG\n",
      "Hbwtr_w1_20210601_115832.JPG\n",
      "Hbwtr_w1_20210602_115831.JPG\n",
      "Hbwtr_w1_20210603_115830.JPG\n",
      "Hbwtr_w1_20210604_115829.JPG\n",
      "Hbwtr_w1_20210605_115828.JPG\n",
      "Hbwtr_w1_20210606_115827.JPG\n",
      "Hbwtr_w1_20210607_115826.JPG\n",
      "Hbwtr_w1_20210608_115825.JPG\n",
      "Hbwtr_w1_20210609_115824.JPG\n",
      "Hbwtr_w1_20210610_115823.JPG\n",
      "Hbwtr_w1_20210611_115822.JPG\n",
      "Hbwtr_w1_20210612_115821.JPG\n",
      "Hbwtr_w1_20210613_115320.JPG\n",
      "Hbwtr_w1_20210614_115819.JPG\n",
      "Hbwtr_w1_20210615_101723.JPG\n",
      "Hbwtr_w1_20210615_115818.JPG\n",
      "Hbwtr_w1_20210616_120317.JPG\n",
      "Hbwtr_w1_20210617_115816.jpg\n",
      "Hbwtr_w1_20210618_115815.JPG\n",
      "Hbwtr_w1_20210619_115814.jpg\n",
      "Hbwtr_w1_20210620_115813.JPG\n",
      "Hbwtr_w1_20210620_120313.JPG\n",
      "Hbwtr_w1_20210621_115812.JPG\n",
      "Hbwtr_w1_20210622_115811.JPG\n",
      "Hbwtr_w1_20210623_115809.JPG\n",
      "Hbwtr_w1_20210624_120308.JPG\n",
      "Hbwtr_w1_20210625_120307.JPG\n",
      "Hbwtr_w1_20210626_115806.JPG\n",
      "Hbwtr_w1_20210627_115805.jpg\n",
      "Hbwtr_w1_20210628_115804.jpg\n",
      "Hbwtr_w1_20210629_115803.JPG\n",
      "Hbwtr_w1_20210629_120503.JPG\n",
      "Hbwtr_w1_20210630_120002.JPG\n",
      "Hbwtr_w1_20210701_120001.JPG\n",
      "Hbwtr_w1_20210702_120000.jpg\n",
      "Hbwtr_w1_20210703_115959.JPG\n",
      "Hbwtr_w1_20210704_115958.JPG\n",
      "Hbwtr_w1_20210705_115957.JPG\n",
      "Hbwtr_w1_20210706_115956.JPG\n",
      "Hbwtr_w1_20210707_120455.JPG\n",
      "Hbwtr_w1_20210708_115954.JPG\n",
      "Hbwtr_w1_20210709_115953.JPG\n",
      "Hbwtr_w1_20210710_120452.JPG\n",
      "Hbwtr_w1_20210711_115951.JPG\n",
      "Hbwtr_w1_20210712_120450.JPG\n",
      "Hbwtr_w1_20210713_115949.JPG\n",
      "Hbwtr_w1_20210714_120448.JPG\n",
      "Hbwtr_w1_20210715_115947.JPG\n",
      "Hbwtr_w1_20210716_115946.JPG\n",
      "Hbwtr_w1_20210717_115945.jpg\n",
      "Hbwtr_w1_20210718_115944.JPG\n",
      "Hbwtr_w1_20210719_115943.JPG\n",
      "Hbwtr_w1_20210720_115942.JPG\n",
      "Hbwtr_w1_20210721_115941.JPG\n",
      "Hbwtr_w1_20210721_120441.JPG\n",
      "Hbwtr_w1_20210722_120440.JPG\n",
      "Hbwtr_w1_20210723_115939.JPG\n",
      "Hbwtr_w1_20210724_115938.JPG\n",
      "Hbwtr_w1_20210725_115937.JPG\n",
      "Hbwtr_w1_20210726_115936.JPG\n",
      "Hbwtr_w1_20210727_115935.JPG\n",
      "Hbwtr_w1_20210728_115934.JPG\n",
      "Hbwtr_w1_20210729_115933.JPG\n",
      "Hbwtr_w1_20210730_115932.JPG\n",
      "Hbwtr_w1_20210730_120432.JPG\n",
      "Hbwtr_w1_20210731_120431.JPG\n",
      "Hbwtr_w1_20210801_120430.JPG\n",
      "Hbwtr_w1_20210802_115929.JPG\n",
      "Hbwtr_w1_20210803_115928.JPG\n",
      "Hbwtr_w1_20210804_115927.JPG\n",
      "Hbwtr_w1_20210805_115926.JPG\n",
      "Hbwtr_w1_20210806_115925.JPG\n",
      "Hbwtr_w1_20210807_115924.JPG\n",
      "Hbwtr_w1_20210808_120423.JPG\n",
      "Hbwtr_w1_20210809_115922.JPG\n",
      "Hbwtr_w1_20210810_115921.JPG\n",
      "Hbwtr_w1_20210811_115920.JPG\n",
      "Hbwtr_w1_20210812_115919.JPG\n",
      "Hbwtr_w1_20210813_115918.JPG\n",
      "Hbwtr_w1_20210814_115917.JPG\n",
      "Hbwtr_w1_20210815_120416.JPG\n",
      "Hbwtr_w1_20210816_115915.JPG\n",
      "Hbwtr_w1_20210817_120414.JPG\n",
      "Hbwtr_w1_20210818_120413.JPG\n",
      "Hbwtr_w1_20210819_115912.JPG\n",
      "Hbwtr_w1_20210820_120411.JPG\n",
      "Hbwtr_w1_20210821_120410.JPG\n",
      "Hbwtr_w1_20210822_120409.JPG\n",
      "Hbwtr_w1_20210823_115908.JPG\n",
      "Hbwtr_w1_20210824_115907.JPG\n",
      "Hbwtr_w1_20210825_115906.JPG\n",
      "Hbwtr_w1_20210826_115905.JPG\n",
      "Hbwtr_w1_20210827_120404.JPG\n",
      "Hbwtr_w1_20210828_115903.JPG\n",
      "Hbwtr_w1_20210829_120402.JPG\n",
      "Hbwtr_w1_20210830_115901.JPG\n",
      "Hbwtr_w1_20210831_115900.JPG\n",
      "Hbwtr_w1_20210901_115859.JPG\n",
      "Hbwtr_w1_20210902_115858.JPG\n",
      "Hbwtr_w1_20210903_120357.JPG\n",
      "Hbwtr_w1_20210904_115856.JPG\n",
      "Hbwtr_w1_20210905_115855.JPG\n",
      "Hbwtr_w1_20210906_115854.JPG\n",
      "Hbwtr_w1_20210907_115853.JPG\n",
      "Hbwtr_w1_20210908_115852.JPG\n",
      "Hbwtr_w1_20210909_115851.JPG\n",
      "Hbwtr_w1_20210910_120350.JPG\n",
      "Hbwtr_w1_20210911_115849.JPG\n",
      "Hbwtr_w1_20210912_120348.JPG\n",
      "Hbwtr_w1_20210913_115847.JPG\n",
      "Hbwtr_w1_20210914_120346.JPG\n",
      "Hbwtr_w1_20210915_120345.JPG\n",
      "Hbwtr_w1_20210916_115844.JPG\n",
      "Hbwtr_w1_20210917_115843.JPG\n",
      "Hbwtr_w1_20210918_115842.JPG\n",
      "Hbwtr_w1_20210919_115841.JPG\n",
      "Hbwtr_w1_20210920_115840.JPG\n",
      "Hbwtr_w1_20210921_120339.JPG\n",
      "Hbwtr_w1_20210922_115838.JPG\n",
      "Hbwtr_w1_20210923_115837.JPG\n",
      "Hbwtr_w1_20210924_115836.JPG\n",
      "Hbwtr_w1_20210925_115335.JPG\n",
      "Hbwtr_w1_20210926_115834.JPG\n",
      "Hbwtr_w1_20210927_115833.JPG\n",
      "Hbwtr_w1_20210928_115832.JPG\n",
      "Hbwtr_w1_20210929_115831.JPG\n",
      "Hbwtr_w1_20210930_120329.JPG\n",
      "Hbwtr_w1_20211001_115828.JPG\n",
      "Hbwtr_w1_20211002_115827.JPG\n",
      "Hbwtr_w1_20211003_115826.JPG\n",
      "Hbwtr_w1_20211004_115825.JPG\n",
      "Hbwtr_w1_20211005_115824.JPG\n",
      "Hbwtr_w1_20211006_115823.JPG\n",
      "Hbwtr_w1_20211007_115822.JPG\n",
      "Hbwtr_w1_20211008_115820.JPG\n",
      "Hbwtr_w1_20211009_120319.JPG\n",
      "Hbwtr_w1_20211010_120319.JPG\n",
      "Hbwtr_w1_20211011_115818.JPG\n",
      "Hbwtr_w1_20211012_115817.JPG\n",
      "Hbwtr_w1_20211013_120316.JPG\n",
      "Hbwtr_w1_20211014_120314.JPG\n",
      "Hbwtr_w1_20211015_115813.JPG\n",
      "Hbwtr_w1_20211016_115812.JPG\n",
      "Hbwtr_w1_20211017_115812.JPG\n",
      "Hbwtr_w1_20211018_115810.JPG\n",
      "Hbwtr_w1_20211018_120310.JPG\n",
      "Hbwtr_w1_20211019_115809.jpg\n",
      "Hbwtr_w1_20211020_120308.JPG\n",
      "Hbwtr_w1_20211021_115807.JPG\n",
      "Hbwtr_w1_20211022_120306.JPG\n",
      "Hbwtr_w1_20211023_115805.JPG\n",
      "Hbwtr_w1_20211024_115804.JPG\n",
      "Hbwtr_w1_20211025_115803.JPG\n",
      "Hbwtr_w1_20211025_120503.JPG\n",
      "Hbwtr_w1_20211026_120002.JPG\n",
      "Hbwtr_w1_20211027_120001.JPG\n",
      "Hbwtr_w1_20211028_091755.JPG\n",
      "Hbwtr_w1_20211028_120000.JPG\n",
      "Hbwtr_w1_20211028_120500.JPG\n",
      "Hbwtr_w1_20211029_120459.JPG\n",
      "Hbwtr_w1_20211030_115958.JPG\n",
      "Hbwtr_w1_20211031_115957.JPG\n"
     ]
    }
   ],
   "source": [
    "#create wateryear data based on inverted images list \n",
    "wy_data = prep_new_data(df) #this takes about 5 mins for a whole WY\n",
    "#write temporary file\n",
    "wy_data.to_csv(save_files_path + 'temporary_wy_data.csv', index= False)"
   ]
  },
  {
   "cell_type": "markdown",
   "metadata": {},
   "source": [
    "## Step 2: Predict classes based on model\n",
    "This step requires wy_data that has a temperature column"
   ]
  },
  {
   "cell_type": "code",
   "execution_count": 10,
   "metadata": {},
   "outputs": [
    {
     "data": {
      "text/html": [
       "<div>\n",
       "<style scoped>\n",
       "    .dataframe tbody tr th:only-of-type {\n",
       "        vertical-align: middle;\n",
       "    }\n",
       "\n",
       "    .dataframe tbody tr th {\n",
       "        vertical-align: top;\n",
       "    }\n",
       "\n",
       "    .dataframe thead th {\n",
       "        text-align: right;\n",
       "    }\n",
       "</style>\n",
       "<table border=\"1\" class=\"dataframe\">\n",
       "  <thead>\n",
       "    <tr style=\"text-align: right;\">\n",
       "      <th></th>\n",
       "      <th>filename_inverted</th>\n",
       "      <th>filename</th>\n",
       "      <th>system</th>\n",
       "      <th>watershed</th>\n",
       "      <th>date</th>\n",
       "      <th>time</th>\n",
       "      <th>pic_id</th>\n",
       "      <th>temperature</th>\n",
       "      <th>year</th>\n",
       "      <th>week</th>\n",
       "      <th>month</th>\n",
       "      <th>season_autumn</th>\n",
       "      <th>season_spring</th>\n",
       "      <th>season_summer</th>\n",
       "      <th>season_winter</th>\n",
       "    </tr>\n",
       "  </thead>\n",
       "  <tbody>\n",
       "    <tr>\n",
       "      <th>0</th>\n",
       "      <td>invert_Hbwtr_w1_20201001_120348.jpg</td>\n",
       "      <td>Hbwtr_w1_20201001_120348.jpg</td>\n",
       "      <td>Hbwtr</td>\n",
       "      <td>w1</td>\n",
       "      <td>2020-10-01</td>\n",
       "      <td>12:03:48</td>\n",
       "      <td>120348.jpg</td>\n",
       "      <td>66</td>\n",
       "      <td>2020</td>\n",
       "      <td>40</td>\n",
       "      <td>10</td>\n",
       "      <td>True</td>\n",
       "      <td>False</td>\n",
       "      <td>False</td>\n",
       "      <td>False</td>\n",
       "    </tr>\n",
       "    <tr>\n",
       "      <th>1</th>\n",
       "      <td>invert_Hbwtr_w1_20201002_120347.jpg</td>\n",
       "      <td>Hbwtr_w1_20201002_120347.jpg</td>\n",
       "      <td>Hbwtr</td>\n",
       "      <td>w1</td>\n",
       "      <td>2020-10-02</td>\n",
       "      <td>12:03:47</td>\n",
       "      <td>120347.jpg</td>\n",
       "      <td>48</td>\n",
       "      <td>2020</td>\n",
       "      <td>40</td>\n",
       "      <td>10</td>\n",
       "      <td>True</td>\n",
       "      <td>False</td>\n",
       "      <td>False</td>\n",
       "      <td>False</td>\n",
       "    </tr>\n",
       "    <tr>\n",
       "      <th>2</th>\n",
       "      <td>invert_Hbwtr_w1_20201003_115846.jpg</td>\n",
       "      <td>Hbwtr_w1_20201003_115846.jpg</td>\n",
       "      <td>Hbwtr</td>\n",
       "      <td>w1</td>\n",
       "      <td>2020-10-03</td>\n",
       "      <td>11:58:46</td>\n",
       "      <td>115846.jpg</td>\n",
       "      <td>51</td>\n",
       "      <td>2020</td>\n",
       "      <td>40</td>\n",
       "      <td>10</td>\n",
       "      <td>True</td>\n",
       "      <td>False</td>\n",
       "      <td>False</td>\n",
       "      <td>False</td>\n",
       "    </tr>\n",
       "    <tr>\n",
       "      <th>3</th>\n",
       "      <td>invert_Hbwtr_w1_20201004_115845.jpg</td>\n",
       "      <td>Hbwtr_w1_20201004_115845.jpg</td>\n",
       "      <td>Hbwtr</td>\n",
       "      <td>w1</td>\n",
       "      <td>2020-10-04</td>\n",
       "      <td>11:58:45</td>\n",
       "      <td>115845.jpg</td>\n",
       "      <td>55</td>\n",
       "      <td>2020</td>\n",
       "      <td>40</td>\n",
       "      <td>10</td>\n",
       "      <td>True</td>\n",
       "      <td>False</td>\n",
       "      <td>False</td>\n",
       "      <td>False</td>\n",
       "    </tr>\n",
       "    <tr>\n",
       "      <th>4</th>\n",
       "      <td>invert_Hbwtr_w1_20201005_115844.jpg</td>\n",
       "      <td>Hbwtr_w1_20201005_115844.jpg</td>\n",
       "      <td>Hbwtr</td>\n",
       "      <td>w1</td>\n",
       "      <td>2020-10-05</td>\n",
       "      <td>11:58:44</td>\n",
       "      <td>115844.jpg</td>\n",
       "      <td>60</td>\n",
       "      <td>2020</td>\n",
       "      <td>41</td>\n",
       "      <td>10</td>\n",
       "      <td>True</td>\n",
       "      <td>False</td>\n",
       "      <td>False</td>\n",
       "      <td>False</td>\n",
       "    </tr>\n",
       "  </tbody>\n",
       "</table>\n",
       "</div>"
      ],
      "text/plain": [
       "                     filename_inverted                      filename system  \\\n",
       "0  invert_Hbwtr_w1_20201001_120348.jpg  Hbwtr_w1_20201001_120348.jpg  Hbwtr   \n",
       "1  invert_Hbwtr_w1_20201002_120347.jpg  Hbwtr_w1_20201002_120347.jpg  Hbwtr   \n",
       "2  invert_Hbwtr_w1_20201003_115846.jpg  Hbwtr_w1_20201003_115846.jpg  Hbwtr   \n",
       "3  invert_Hbwtr_w1_20201004_115845.jpg  Hbwtr_w1_20201004_115845.jpg  Hbwtr   \n",
       "4  invert_Hbwtr_w1_20201005_115844.jpg  Hbwtr_w1_20201005_115844.jpg  Hbwtr   \n",
       "\n",
       "  watershed        date      time      pic_id  temperature  year  week  month  \\\n",
       "0        w1  2020-10-01  12:03:48  120348.jpg           66  2020    40     10   \n",
       "1        w1  2020-10-02  12:03:47  120347.jpg           48  2020    40     10   \n",
       "2        w1  2020-10-03  11:58:46  115846.jpg           51  2020    40     10   \n",
       "3        w1  2020-10-04  11:58:45  115845.jpg           55  2020    40     10   \n",
       "4        w1  2020-10-05  11:58:44  115844.jpg           60  2020    41     10   \n",
       "\n",
       "   season_autumn  season_spring  season_summer  season_winter  \n",
       "0           True          False          False          False  \n",
       "1           True          False          False          False  \n",
       "2           True          False          False          False  \n",
       "3           True          False          False          False  \n",
       "4           True          False          False          False  "
      ]
     },
     "execution_count": 10,
     "metadata": {},
     "output_type": "execute_result"
    }
   ],
   "source": [
    "#optional: load in data\n",
    "wy_data = pd.read_csv(save_files_path + 'temporary_wy_data.csv') #uncomment if wy_data is not in your variables environment \n",
    "wy_data.head()"
   ]
  },
  {
   "cell_type": "code",
   "execution_count": 11,
   "metadata": {},
   "outputs": [],
   "source": [
    "# extract image np.array for each and save in image_dict\n",
    "image_dict = {}\n",
    "def my_func(row):\n",
    "    if row[\"filename\"] in image_dict:\n",
    "        return\n",
    "    path =  invert_images_path + \"invert_\"+row[\"filename\"]\n",
    "    img= np.asarray(Image.open(path))\n",
    "    image_dict[row[\"filename\"]] = img\n",
    "_ = wy_data.apply(lambda c: my_func(c),axis=1)\n"
   ]
  },
  {
   "cell_type": "code",
   "execution_count": 12,
   "metadata": {},
   "outputs": [],
   "source": [
    "#from ml_model.ipynb import model\n",
    "import  joblib\n",
    "from colordict import ColorDict #add colors for plotting\n",
    "colors = ColorDict()\n",
    "\n",
    "model = joblib.load(\"./model.joblib\")"
   ]
  },
  {
   "cell_type": "code",
   "execution_count": 13,
   "metadata": {},
   "outputs": [],
   "source": [
    "#save categories and color scheme for classification \n",
    "snow_like = ['snow_o', 'ice_t', 'snow_t', 'ice_o']\n",
    "\n",
    "leaf_like = [\"leaf_green\", \"leaf_fall\"] #maybe remove leaf sub\n",
    "\n",
    "not_submerged = ['not submerged']\n",
    "\n",
    "class_rgb = {'snow_o': \"azure\",\n",
    "   'snow_t': \"paleturquoise\",\n",
    "   'ice_t': \"lightcyan\",\n",
    "   'ice_o': \"lightblue\",\n",
    "   'open_water_green': \"navy\", \n",
    "   'open_water_dark': \"royalblue\",\n",
    "   'open_water': \"cornflowerblue\",\n",
    "   'leaf_fall': \"orange\",\n",
    "   'leaf_sub': \"goldenrod\",\n",
    "   'leaf_green': \"limegreen\",\n",
    "   'riffle': \"red\",\n",
    "   'rock': \"thistle\",\n",
    "   'other': \"lightgray\",\n",
    "   'not_submerged': \"gray\"}\n",
    "\n",
    "class_g = {'snow_o': 1,\n",
    "        'snow_t': 2,\n",
    "        'ice_t': 3,\n",
    "        'ice_o': 4,\n",
    "        'open_water_green': 5, \n",
    "        'open_water_dark': 6,\n",
    "        'open_water': 7,\n",
    "        'leaf_fall': 8,\n",
    "        'leaf_sub': 9,\n",
    "        'leaf_green': 10,\n",
    "        'riffle': 11,\n",
    "        'rock': 12,\n",
    "        'other': 13,\n",
    "        'not_submerged': 14}"
   ]
  },
  {
   "cell_type": "code",
   "execution_count": 26,
   "metadata": {},
   "outputs": [
    {
     "name": "stdout",
     "output_type": "stream",
     "text": [
      "Start index: 256\n",
      "Finished at index: 256\n",
      "saved image at index: Hbwtr_w1_20210905_115855.JPG\n"
     ]
    },
    {
     "name": "stderr",
     "output_type": "stream",
     "text": [
      "C:\\Users\\athellma\\AppData\\Local\\Temp\\ipykernel_8988\\215590487.py:72: FutureWarning: Downcasting behavior in `replace` is deprecated and will be removed in a future version. To retain the old behavior, explicitly call `result.infer_objects(copy=False)`. To opt-in to the future behavior, set `pd.set_option('future.no_silent_downcasting', True)`\n",
      "  point2 = point.replace({\"predict\": class_g})\n"
     ]
    },
    {
     "name": "stdout",
     "output_type": "stream",
     "text": [
      "Start index: 257\n",
      "Finished at index: 257\n",
      "saved image at index: Hbwtr_w1_20210906_115854.JPG\n"
     ]
    },
    {
     "name": "stderr",
     "output_type": "stream",
     "text": [
      "C:\\Users\\athellma\\AppData\\Local\\Temp\\ipykernel_8988\\215590487.py:72: FutureWarning: Downcasting behavior in `replace` is deprecated and will be removed in a future version. To retain the old behavior, explicitly call `result.infer_objects(copy=False)`. To opt-in to the future behavior, set `pd.set_option('future.no_silent_downcasting', True)`\n",
      "  point2 = point.replace({\"predict\": class_g})\n"
     ]
    },
    {
     "name": "stdout",
     "output_type": "stream",
     "text": [
      "Start index: 258\n",
      "Finished at index: 258\n",
      "saved image at index: Hbwtr_w1_20210907_115853.JPG\n"
     ]
    },
    {
     "name": "stderr",
     "output_type": "stream",
     "text": [
      "C:\\Users\\athellma\\AppData\\Local\\Temp\\ipykernel_8988\\215590487.py:72: FutureWarning: Downcasting behavior in `replace` is deprecated and will be removed in a future version. To retain the old behavior, explicitly call `result.infer_objects(copy=False)`. To opt-in to the future behavior, set `pd.set_option('future.no_silent_downcasting', True)`\n",
      "  point2 = point.replace({\"predict\": class_g})\n"
     ]
    },
    {
     "name": "stdout",
     "output_type": "stream",
     "text": [
      "Start index: 259\n",
      "Finished at index: 259\n",
      "saved image at index: Hbwtr_w1_20210908_115852.JPG\n"
     ]
    },
    {
     "name": "stderr",
     "output_type": "stream",
     "text": [
      "C:\\Users\\athellma\\AppData\\Local\\Temp\\ipykernel_8988\\215590487.py:72: FutureWarning: Downcasting behavior in `replace` is deprecated and will be removed in a future version. To retain the old behavior, explicitly call `result.infer_objects(copy=False)`. To opt-in to the future behavior, set `pd.set_option('future.no_silent_downcasting', True)`\n",
      "  point2 = point.replace({\"predict\": class_g})\n"
     ]
    },
    {
     "name": "stdout",
     "output_type": "stream",
     "text": [
      "Start index: 260\n",
      "Finished at index: 260\n",
      "saved image at index: Hbwtr_w1_20210909_115851.JPG\n"
     ]
    },
    {
     "name": "stderr",
     "output_type": "stream",
     "text": [
      "C:\\Users\\athellma\\AppData\\Local\\Temp\\ipykernel_8988\\215590487.py:72: FutureWarning: Downcasting behavior in `replace` is deprecated and will be removed in a future version. To retain the old behavior, explicitly call `result.infer_objects(copy=False)`. To opt-in to the future behavior, set `pd.set_option('future.no_silent_downcasting', True)`\n",
      "  point2 = point.replace({\"predict\": class_g})\n"
     ]
    },
    {
     "name": "stdout",
     "output_type": "stream",
     "text": [
      "Start index: 261\n",
      "Finished at index: 261\n",
      "saved image at index: Hbwtr_w1_20210910_120350.JPG\n"
     ]
    },
    {
     "name": "stderr",
     "output_type": "stream",
     "text": [
      "C:\\Users\\athellma\\AppData\\Local\\Temp\\ipykernel_8988\\215590487.py:72: FutureWarning: Downcasting behavior in `replace` is deprecated and will be removed in a future version. To retain the old behavior, explicitly call `result.infer_objects(copy=False)`. To opt-in to the future behavior, set `pd.set_option('future.no_silent_downcasting', True)`\n",
      "  point2 = point.replace({\"predict\": class_g})\n"
     ]
    },
    {
     "name": "stdout",
     "output_type": "stream",
     "text": [
      "Start index: 262\n",
      "Finished at index: 262\n",
      "saved image at index: Hbwtr_w1_20210911_115849.JPG\n"
     ]
    },
    {
     "name": "stderr",
     "output_type": "stream",
     "text": [
      "C:\\Users\\athellma\\AppData\\Local\\Temp\\ipykernel_8988\\215590487.py:72: FutureWarning: Downcasting behavior in `replace` is deprecated and will be removed in a future version. To retain the old behavior, explicitly call `result.infer_objects(copy=False)`. To opt-in to the future behavior, set `pd.set_option('future.no_silent_downcasting', True)`\n",
      "  point2 = point.replace({\"predict\": class_g})\n"
     ]
    },
    {
     "name": "stdout",
     "output_type": "stream",
     "text": [
      "Start index: 263\n",
      "Finished at index: 263\n",
      "saved image at index: Hbwtr_w1_20210912_120348.JPG\n"
     ]
    },
    {
     "name": "stderr",
     "output_type": "stream",
     "text": [
      "C:\\Users\\athellma\\AppData\\Local\\Temp\\ipykernel_8988\\215590487.py:72: FutureWarning: Downcasting behavior in `replace` is deprecated and will be removed in a future version. To retain the old behavior, explicitly call `result.infer_objects(copy=False)`. To opt-in to the future behavior, set `pd.set_option('future.no_silent_downcasting', True)`\n",
      "  point2 = point.replace({\"predict\": class_g})\n"
     ]
    },
    {
     "name": "stdout",
     "output_type": "stream",
     "text": [
      "Start index: 264\n",
      "Finished at index: 264\n",
      "saved image at index: Hbwtr_w1_20210913_115847.JPG\n"
     ]
    },
    {
     "name": "stderr",
     "output_type": "stream",
     "text": [
      "C:\\Users\\athellma\\AppData\\Local\\Temp\\ipykernel_8988\\215590487.py:72: FutureWarning: Downcasting behavior in `replace` is deprecated and will be removed in a future version. To retain the old behavior, explicitly call `result.infer_objects(copy=False)`. To opt-in to the future behavior, set `pd.set_option('future.no_silent_downcasting', True)`\n",
      "  point2 = point.replace({\"predict\": class_g})\n"
     ]
    },
    {
     "name": "stdout",
     "output_type": "stream",
     "text": [
      "Start index: 265\n",
      "Finished at index: 265\n",
      "saved image at index: Hbwtr_w1_20210914_120346.JPG\n"
     ]
    },
    {
     "name": "stderr",
     "output_type": "stream",
     "text": [
      "C:\\Users\\athellma\\AppData\\Local\\Temp\\ipykernel_8988\\215590487.py:72: FutureWarning: Downcasting behavior in `replace` is deprecated and will be removed in a future version. To retain the old behavior, explicitly call `result.infer_objects(copy=False)`. To opt-in to the future behavior, set `pd.set_option('future.no_silent_downcasting', True)`\n",
      "  point2 = point.replace({\"predict\": class_g})\n"
     ]
    },
    {
     "name": "stdout",
     "output_type": "stream",
     "text": [
      "Start index: 266\n",
      "Finished at index: 266\n",
      "saved image at index: Hbwtr_w1_20210915_120345.JPG\n"
     ]
    },
    {
     "name": "stderr",
     "output_type": "stream",
     "text": [
      "C:\\Users\\athellma\\AppData\\Local\\Temp\\ipykernel_8988\\215590487.py:72: FutureWarning: Downcasting behavior in `replace` is deprecated and will be removed in a future version. To retain the old behavior, explicitly call `result.infer_objects(copy=False)`. To opt-in to the future behavior, set `pd.set_option('future.no_silent_downcasting', True)`\n",
      "  point2 = point.replace({\"predict\": class_g})\n"
     ]
    },
    {
     "name": "stdout",
     "output_type": "stream",
     "text": [
      "Start index: 267\n",
      "Finished at index: 267\n",
      "saved image at index: Hbwtr_w1_20210916_115844.JPG\n"
     ]
    },
    {
     "name": "stderr",
     "output_type": "stream",
     "text": [
      "C:\\Users\\athellma\\AppData\\Local\\Temp\\ipykernel_8988\\215590487.py:72: FutureWarning: Downcasting behavior in `replace` is deprecated and will be removed in a future version. To retain the old behavior, explicitly call `result.infer_objects(copy=False)`. To opt-in to the future behavior, set `pd.set_option('future.no_silent_downcasting', True)`\n",
      "  point2 = point.replace({\"predict\": class_g})\n"
     ]
    },
    {
     "name": "stdout",
     "output_type": "stream",
     "text": [
      "Start index: 268\n",
      "Finished at index: 268\n",
      "saved image at index: Hbwtr_w1_20210917_115843.JPG\n"
     ]
    },
    {
     "name": "stderr",
     "output_type": "stream",
     "text": [
      "C:\\Users\\athellma\\AppData\\Local\\Temp\\ipykernel_8988\\215590487.py:72: FutureWarning: Downcasting behavior in `replace` is deprecated and will be removed in a future version. To retain the old behavior, explicitly call `result.infer_objects(copy=False)`. To opt-in to the future behavior, set `pd.set_option('future.no_silent_downcasting', True)`\n",
      "  point2 = point.replace({\"predict\": class_g})\n"
     ]
    },
    {
     "name": "stdout",
     "output_type": "stream",
     "text": [
      "Start index: 269\n",
      "Finished at index: 269\n",
      "saved image at index: Hbwtr_w1_20210918_115842.JPG\n"
     ]
    },
    {
     "name": "stderr",
     "output_type": "stream",
     "text": [
      "C:\\Users\\athellma\\AppData\\Local\\Temp\\ipykernel_8988\\215590487.py:72: FutureWarning: Downcasting behavior in `replace` is deprecated and will be removed in a future version. To retain the old behavior, explicitly call `result.infer_objects(copy=False)`. To opt-in to the future behavior, set `pd.set_option('future.no_silent_downcasting', True)`\n",
      "  point2 = point.replace({\"predict\": class_g})\n"
     ]
    },
    {
     "name": "stdout",
     "output_type": "stream",
     "text": [
      "Start index: 270\n",
      "Finished at index: 270\n",
      "saved image at index: Hbwtr_w1_20210919_115841.JPG\n"
     ]
    },
    {
     "name": "stderr",
     "output_type": "stream",
     "text": [
      "C:\\Users\\athellma\\AppData\\Local\\Temp\\ipykernel_8988\\215590487.py:72: FutureWarning: Downcasting behavior in `replace` is deprecated and will be removed in a future version. To retain the old behavior, explicitly call `result.infer_objects(copy=False)`. To opt-in to the future behavior, set `pd.set_option('future.no_silent_downcasting', True)`\n",
      "  point2 = point.replace({\"predict\": class_g})\n"
     ]
    },
    {
     "name": "stdout",
     "output_type": "stream",
     "text": [
      "Start index: 271\n",
      "Finished at index: 271\n",
      "saved image at index: Hbwtr_w1_20210920_115840.JPG\n"
     ]
    },
    {
     "name": "stderr",
     "output_type": "stream",
     "text": [
      "C:\\Users\\athellma\\AppData\\Local\\Temp\\ipykernel_8988\\215590487.py:72: FutureWarning: Downcasting behavior in `replace` is deprecated and will be removed in a future version. To retain the old behavior, explicitly call `result.infer_objects(copy=False)`. To opt-in to the future behavior, set `pd.set_option('future.no_silent_downcasting', True)`\n",
      "  point2 = point.replace({\"predict\": class_g})\n"
     ]
    },
    {
     "name": "stdout",
     "output_type": "stream",
     "text": [
      "Start index: 272\n",
      "Finished at index: 272\n",
      "saved image at index: Hbwtr_w1_20210921_120339.JPG\n"
     ]
    },
    {
     "name": "stderr",
     "output_type": "stream",
     "text": [
      "C:\\Users\\athellma\\AppData\\Local\\Temp\\ipykernel_8988\\215590487.py:72: FutureWarning: Downcasting behavior in `replace` is deprecated and will be removed in a future version. To retain the old behavior, explicitly call `result.infer_objects(copy=False)`. To opt-in to the future behavior, set `pd.set_option('future.no_silent_downcasting', True)`\n",
      "  point2 = point.replace({\"predict\": class_g})\n"
     ]
    },
    {
     "name": "stdout",
     "output_type": "stream",
     "text": [
      "Start index: 273\n",
      "Finished at index: 273\n",
      "saved image at index: Hbwtr_w1_20210922_115838.JPG\n"
     ]
    },
    {
     "name": "stderr",
     "output_type": "stream",
     "text": [
      "C:\\Users\\athellma\\AppData\\Local\\Temp\\ipykernel_8988\\215590487.py:72: FutureWarning: Downcasting behavior in `replace` is deprecated and will be removed in a future version. To retain the old behavior, explicitly call `result.infer_objects(copy=False)`. To opt-in to the future behavior, set `pd.set_option('future.no_silent_downcasting', True)`\n",
      "  point2 = point.replace({\"predict\": class_g})\n"
     ]
    },
    {
     "name": "stdout",
     "output_type": "stream",
     "text": [
      "Start index: 274\n",
      "Finished at index: 274\n",
      "saved image at index: Hbwtr_w1_20210923_115837.JPG\n"
     ]
    },
    {
     "name": "stderr",
     "output_type": "stream",
     "text": [
      "C:\\Users\\athellma\\AppData\\Local\\Temp\\ipykernel_8988\\215590487.py:72: FutureWarning: Downcasting behavior in `replace` is deprecated and will be removed in a future version. To retain the old behavior, explicitly call `result.infer_objects(copy=False)`. To opt-in to the future behavior, set `pd.set_option('future.no_silent_downcasting', True)`\n",
      "  point2 = point.replace({\"predict\": class_g})\n"
     ]
    },
    {
     "name": "stdout",
     "output_type": "stream",
     "text": [
      "Start index: 275\n",
      "Finished at index: 275\n",
      "saved image at index: Hbwtr_w1_20210924_115836.JPG\n"
     ]
    },
    {
     "name": "stderr",
     "output_type": "stream",
     "text": [
      "C:\\Users\\athellma\\AppData\\Local\\Temp\\ipykernel_8988\\215590487.py:72: FutureWarning: Downcasting behavior in `replace` is deprecated and will be removed in a future version. To retain the old behavior, explicitly call `result.infer_objects(copy=False)`. To opt-in to the future behavior, set `pd.set_option('future.no_silent_downcasting', True)`\n",
      "  point2 = point.replace({\"predict\": class_g})\n"
     ]
    },
    {
     "name": "stdout",
     "output_type": "stream",
     "text": [
      "Start index: 276\n",
      "Finished at index: 276\n",
      "saved image at index: Hbwtr_w1_20210925_115335.JPG\n"
     ]
    },
    {
     "name": "stderr",
     "output_type": "stream",
     "text": [
      "C:\\Users\\athellma\\AppData\\Local\\Temp\\ipykernel_8988\\215590487.py:72: FutureWarning: Downcasting behavior in `replace` is deprecated and will be removed in a future version. To retain the old behavior, explicitly call `result.infer_objects(copy=False)`. To opt-in to the future behavior, set `pd.set_option('future.no_silent_downcasting', True)`\n",
      "  point2 = point.replace({\"predict\": class_g})\n"
     ]
    },
    {
     "name": "stdout",
     "output_type": "stream",
     "text": [
      "Start index: 277\n",
      "Finished at index: 277\n",
      "saved image at index: Hbwtr_w1_20210926_115834.JPG\n"
     ]
    },
    {
     "name": "stderr",
     "output_type": "stream",
     "text": [
      "C:\\Users\\athellma\\AppData\\Local\\Temp\\ipykernel_8988\\215590487.py:72: FutureWarning: Downcasting behavior in `replace` is deprecated and will be removed in a future version. To retain the old behavior, explicitly call `result.infer_objects(copy=False)`. To opt-in to the future behavior, set `pd.set_option('future.no_silent_downcasting', True)`\n",
      "  point2 = point.replace({\"predict\": class_g})\n"
     ]
    },
    {
     "name": "stdout",
     "output_type": "stream",
     "text": [
      "Start index: 278\n",
      "Finished at index: 278\n",
      "saved image at index: Hbwtr_w1_20210927_115833.JPG\n"
     ]
    },
    {
     "name": "stderr",
     "output_type": "stream",
     "text": [
      "C:\\Users\\athellma\\AppData\\Local\\Temp\\ipykernel_8988\\215590487.py:72: FutureWarning: Downcasting behavior in `replace` is deprecated and will be removed in a future version. To retain the old behavior, explicitly call `result.infer_objects(copy=False)`. To opt-in to the future behavior, set `pd.set_option('future.no_silent_downcasting', True)`\n",
      "  point2 = point.replace({\"predict\": class_g})\n"
     ]
    },
    {
     "name": "stdout",
     "output_type": "stream",
     "text": [
      "Start index: 279\n",
      "Finished at index: 279\n",
      "saved image at index: Hbwtr_w1_20210928_115832.JPG\n"
     ]
    },
    {
     "name": "stderr",
     "output_type": "stream",
     "text": [
      "C:\\Users\\athellma\\AppData\\Local\\Temp\\ipykernel_8988\\215590487.py:72: FutureWarning: Downcasting behavior in `replace` is deprecated and will be removed in a future version. To retain the old behavior, explicitly call `result.infer_objects(copy=False)`. To opt-in to the future behavior, set `pd.set_option('future.no_silent_downcasting', True)`\n",
      "  point2 = point.replace({\"predict\": class_g})\n"
     ]
    },
    {
     "name": "stdout",
     "output_type": "stream",
     "text": [
      "Start index: 280\n",
      "Finished at index: 280\n",
      "saved image at index: Hbwtr_w1_20210929_115831.JPG\n"
     ]
    },
    {
     "name": "stderr",
     "output_type": "stream",
     "text": [
      "C:\\Users\\athellma\\AppData\\Local\\Temp\\ipykernel_8988\\215590487.py:72: FutureWarning: Downcasting behavior in `replace` is deprecated and will be removed in a future version. To retain the old behavior, explicitly call `result.infer_objects(copy=False)`. To opt-in to the future behavior, set `pd.set_option('future.no_silent_downcasting', True)`\n",
      "  point2 = point.replace({\"predict\": class_g})\n"
     ]
    },
    {
     "name": "stdout",
     "output_type": "stream",
     "text": [
      "Start index: 281\n",
      "Finished at index: 281\n",
      "saved image at index: Hbwtr_w1_20211001_115828.JPG\n"
     ]
    },
    {
     "name": "stderr",
     "output_type": "stream",
     "text": [
      "C:\\Users\\athellma\\AppData\\Local\\Temp\\ipykernel_8988\\215590487.py:72: FutureWarning: Downcasting behavior in `replace` is deprecated and will be removed in a future version. To retain the old behavior, explicitly call `result.infer_objects(copy=False)`. To opt-in to the future behavior, set `pd.set_option('future.no_silent_downcasting', True)`\n",
      "  point2 = point.replace({\"predict\": class_g})\n"
     ]
    },
    {
     "name": "stdout",
     "output_type": "stream",
     "text": [
      "Start index: 282\n",
      "Finished at index: 282\n",
      "saved image at index: Hbwtr_w1_20211002_115827.JPG\n"
     ]
    },
    {
     "name": "stderr",
     "output_type": "stream",
     "text": [
      "C:\\Users\\athellma\\AppData\\Local\\Temp\\ipykernel_8988\\215590487.py:72: FutureWarning: Downcasting behavior in `replace` is deprecated and will be removed in a future version. To retain the old behavior, explicitly call `result.infer_objects(copy=False)`. To opt-in to the future behavior, set `pd.set_option('future.no_silent_downcasting', True)`\n",
      "  point2 = point.replace({\"predict\": class_g})\n"
     ]
    },
    {
     "name": "stdout",
     "output_type": "stream",
     "text": [
      "Start index: 283\n",
      "Finished at index: 283\n",
      "saved image at index: Hbwtr_w1_20211003_115826.JPG\n"
     ]
    },
    {
     "name": "stderr",
     "output_type": "stream",
     "text": [
      "C:\\Users\\athellma\\AppData\\Local\\Temp\\ipykernel_8988\\215590487.py:72: FutureWarning: Downcasting behavior in `replace` is deprecated and will be removed in a future version. To retain the old behavior, explicitly call `result.infer_objects(copy=False)`. To opt-in to the future behavior, set `pd.set_option('future.no_silent_downcasting', True)`\n",
      "  point2 = point.replace({\"predict\": class_g})\n"
     ]
    },
    {
     "name": "stdout",
     "output_type": "stream",
     "text": [
      "Start index: 284\n",
      "Finished at index: 284\n",
      "saved image at index: Hbwtr_w1_20211004_115825.JPG\n"
     ]
    },
    {
     "name": "stderr",
     "output_type": "stream",
     "text": [
      "C:\\Users\\athellma\\AppData\\Local\\Temp\\ipykernel_8988\\215590487.py:72: FutureWarning: Downcasting behavior in `replace` is deprecated and will be removed in a future version. To retain the old behavior, explicitly call `result.infer_objects(copy=False)`. To opt-in to the future behavior, set `pd.set_option('future.no_silent_downcasting', True)`\n",
      "  point2 = point.replace({\"predict\": class_g})\n"
     ]
    },
    {
     "name": "stdout",
     "output_type": "stream",
     "text": [
      "Start index: 285\n",
      "Finished at index: 285\n",
      "saved image at index: Hbwtr_w1_20211005_115824.JPG\n"
     ]
    },
    {
     "name": "stderr",
     "output_type": "stream",
     "text": [
      "C:\\Users\\athellma\\AppData\\Local\\Temp\\ipykernel_8988\\215590487.py:72: FutureWarning: Downcasting behavior in `replace` is deprecated and will be removed in a future version. To retain the old behavior, explicitly call `result.infer_objects(copy=False)`. To opt-in to the future behavior, set `pd.set_option('future.no_silent_downcasting', True)`\n",
      "  point2 = point.replace({\"predict\": class_g})\n"
     ]
    },
    {
     "name": "stdout",
     "output_type": "stream",
     "text": [
      "Start index: 286\n",
      "Finished at index: 286\n",
      "saved image at index: Hbwtr_w1_20211006_115823.JPG\n"
     ]
    },
    {
     "name": "stderr",
     "output_type": "stream",
     "text": [
      "C:\\Users\\athellma\\AppData\\Local\\Temp\\ipykernel_8988\\215590487.py:72: FutureWarning: Downcasting behavior in `replace` is deprecated and will be removed in a future version. To retain the old behavior, explicitly call `result.infer_objects(copy=False)`. To opt-in to the future behavior, set `pd.set_option('future.no_silent_downcasting', True)`\n",
      "  point2 = point.replace({\"predict\": class_g})\n"
     ]
    },
    {
     "name": "stdout",
     "output_type": "stream",
     "text": [
      "Start index: 287\n",
      "Finished at index: 287\n",
      "saved image at index: Hbwtr_w1_20211007_115822.JPG\n"
     ]
    },
    {
     "name": "stderr",
     "output_type": "stream",
     "text": [
      "C:\\Users\\athellma\\AppData\\Local\\Temp\\ipykernel_8988\\215590487.py:72: FutureWarning: Downcasting behavior in `replace` is deprecated and will be removed in a future version. To retain the old behavior, explicitly call `result.infer_objects(copy=False)`. To opt-in to the future behavior, set `pd.set_option('future.no_silent_downcasting', True)`\n",
      "  point2 = point.replace({\"predict\": class_g})\n"
     ]
    },
    {
     "name": "stdout",
     "output_type": "stream",
     "text": [
      "Start index: 288\n",
      "Finished at index: 288\n",
      "saved image at index: Hbwtr_w1_20211008_115820.JPG\n"
     ]
    },
    {
     "name": "stderr",
     "output_type": "stream",
     "text": [
      "C:\\Users\\athellma\\AppData\\Local\\Temp\\ipykernel_8988\\215590487.py:72: FutureWarning: Downcasting behavior in `replace` is deprecated and will be removed in a future version. To retain the old behavior, explicitly call `result.infer_objects(copy=False)`. To opt-in to the future behavior, set `pd.set_option('future.no_silent_downcasting', True)`\n",
      "  point2 = point.replace({\"predict\": class_g})\n"
     ]
    },
    {
     "name": "stdout",
     "output_type": "stream",
     "text": [
      "Start index: 289\n",
      "Finished at index: 289\n",
      "saved image at index: Hbwtr_w1_20211010_120319.JPG\n"
     ]
    },
    {
     "name": "stderr",
     "output_type": "stream",
     "text": [
      "C:\\Users\\athellma\\AppData\\Local\\Temp\\ipykernel_8988\\215590487.py:72: FutureWarning: Downcasting behavior in `replace` is deprecated and will be removed in a future version. To retain the old behavior, explicitly call `result.infer_objects(copy=False)`. To opt-in to the future behavior, set `pd.set_option('future.no_silent_downcasting', True)`\n",
      "  point2 = point.replace({\"predict\": class_g})\n"
     ]
    },
    {
     "name": "stdout",
     "output_type": "stream",
     "text": [
      "Start index: 290\n",
      "Finished at index: 290\n",
      "saved image at index: Hbwtr_w1_20211011_115818.JPG\n"
     ]
    },
    {
     "name": "stderr",
     "output_type": "stream",
     "text": [
      "C:\\Users\\athellma\\AppData\\Local\\Temp\\ipykernel_8988\\215590487.py:72: FutureWarning: Downcasting behavior in `replace` is deprecated and will be removed in a future version. To retain the old behavior, explicitly call `result.infer_objects(copy=False)`. To opt-in to the future behavior, set `pd.set_option('future.no_silent_downcasting', True)`\n",
      "  point2 = point.replace({\"predict\": class_g})\n"
     ]
    },
    {
     "name": "stdout",
     "output_type": "stream",
     "text": [
      "Start index: 291\n",
      "Finished at index: 291\n",
      "saved image at index: Hbwtr_w1_20211012_115817.JPG\n"
     ]
    },
    {
     "name": "stderr",
     "output_type": "stream",
     "text": [
      "C:\\Users\\athellma\\AppData\\Local\\Temp\\ipykernel_8988\\215590487.py:72: FutureWarning: Downcasting behavior in `replace` is deprecated and will be removed in a future version. To retain the old behavior, explicitly call `result.infer_objects(copy=False)`. To opt-in to the future behavior, set `pd.set_option('future.no_silent_downcasting', True)`\n",
      "  point2 = point.replace({\"predict\": class_g})\n"
     ]
    },
    {
     "name": "stdout",
     "output_type": "stream",
     "text": [
      "Start index: 292\n",
      "Finished at index: 292\n",
      "saved image at index: Hbwtr_w1_20211014_120314.JPG\n"
     ]
    },
    {
     "name": "stderr",
     "output_type": "stream",
     "text": [
      "C:\\Users\\athellma\\AppData\\Local\\Temp\\ipykernel_8988\\215590487.py:72: FutureWarning: Downcasting behavior in `replace` is deprecated and will be removed in a future version. To retain the old behavior, explicitly call `result.infer_objects(copy=False)`. To opt-in to the future behavior, set `pd.set_option('future.no_silent_downcasting', True)`\n",
      "  point2 = point.replace({\"predict\": class_g})\n"
     ]
    },
    {
     "name": "stdout",
     "output_type": "stream",
     "text": [
      "Start index: 293\n",
      "Finished at index: 293\n",
      "saved image at index: Hbwtr_w1_20211015_115813.JPG\n"
     ]
    },
    {
     "name": "stderr",
     "output_type": "stream",
     "text": [
      "C:\\Users\\athellma\\AppData\\Local\\Temp\\ipykernel_8988\\215590487.py:72: FutureWarning: Downcasting behavior in `replace` is deprecated and will be removed in a future version. To retain the old behavior, explicitly call `result.infer_objects(copy=False)`. To opt-in to the future behavior, set `pd.set_option('future.no_silent_downcasting', True)`\n",
      "  point2 = point.replace({\"predict\": class_g})\n"
     ]
    },
    {
     "name": "stdout",
     "output_type": "stream",
     "text": [
      "Start index: 294\n",
      "Finished at index: 294\n",
      "saved image at index: Hbwtr_w1_20211016_115812.JPG\n"
     ]
    },
    {
     "name": "stderr",
     "output_type": "stream",
     "text": [
      "C:\\Users\\athellma\\AppData\\Local\\Temp\\ipykernel_8988\\215590487.py:72: FutureWarning: Downcasting behavior in `replace` is deprecated and will be removed in a future version. To retain the old behavior, explicitly call `result.infer_objects(copy=False)`. To opt-in to the future behavior, set `pd.set_option('future.no_silent_downcasting', True)`\n",
      "  point2 = point.replace({\"predict\": class_g})\n"
     ]
    },
    {
     "name": "stdout",
     "output_type": "stream",
     "text": [
      "Start index: 295\n",
      "Finished at index: 295\n",
      "saved image at index: Hbwtr_w1_20211017_115812.JPG\n"
     ]
    },
    {
     "name": "stderr",
     "output_type": "stream",
     "text": [
      "C:\\Users\\athellma\\AppData\\Local\\Temp\\ipykernel_8988\\215590487.py:72: FutureWarning: Downcasting behavior in `replace` is deprecated and will be removed in a future version. To retain the old behavior, explicitly call `result.infer_objects(copy=False)`. To opt-in to the future behavior, set `pd.set_option('future.no_silent_downcasting', True)`\n",
      "  point2 = point.replace({\"predict\": class_g})\n"
     ]
    },
    {
     "name": "stdout",
     "output_type": "stream",
     "text": [
      "Start index: 296\n",
      "Finished at index: 296\n",
      "saved image at index: Hbwtr_w1_20211018_115810.JPG\n"
     ]
    },
    {
     "name": "stderr",
     "output_type": "stream",
     "text": [
      "C:\\Users\\athellma\\AppData\\Local\\Temp\\ipykernel_8988\\215590487.py:72: FutureWarning: Downcasting behavior in `replace` is deprecated and will be removed in a future version. To retain the old behavior, explicitly call `result.infer_objects(copy=False)`. To opt-in to the future behavior, set `pd.set_option('future.no_silent_downcasting', True)`\n",
      "  point2 = point.replace({\"predict\": class_g})\n"
     ]
    },
    {
     "name": "stdout",
     "output_type": "stream",
     "text": [
      "Start index: 297\n",
      "Finished at index: 297\n",
      "saved image at index: Hbwtr_w1_20211018_120310.JPG\n"
     ]
    },
    {
     "name": "stderr",
     "output_type": "stream",
     "text": [
      "C:\\Users\\athellma\\AppData\\Local\\Temp\\ipykernel_8988\\215590487.py:72: FutureWarning: Downcasting behavior in `replace` is deprecated and will be removed in a future version. To retain the old behavior, explicitly call `result.infer_objects(copy=False)`. To opt-in to the future behavior, set `pd.set_option('future.no_silent_downcasting', True)`\n",
      "  point2 = point.replace({\"predict\": class_g})\n"
     ]
    },
    {
     "name": "stdout",
     "output_type": "stream",
     "text": [
      "Start index: 298\n",
      "Finished at index: 298\n",
      "saved image at index: Hbwtr_w1_20211019_115809.jpg\n"
     ]
    },
    {
     "name": "stderr",
     "output_type": "stream",
     "text": [
      "C:\\Users\\athellma\\AppData\\Local\\Temp\\ipykernel_8988\\215590487.py:72: FutureWarning: Downcasting behavior in `replace` is deprecated and will be removed in a future version. To retain the old behavior, explicitly call `result.infer_objects(copy=False)`. To opt-in to the future behavior, set `pd.set_option('future.no_silent_downcasting', True)`\n",
      "  point2 = point.replace({\"predict\": class_g})\n"
     ]
    },
    {
     "name": "stdout",
     "output_type": "stream",
     "text": [
      "Start index: 299\n",
      "Finished at index: 299\n",
      "saved image at index: Hbwtr_w1_20211020_120308.JPG\n"
     ]
    },
    {
     "name": "stderr",
     "output_type": "stream",
     "text": [
      "C:\\Users\\athellma\\AppData\\Local\\Temp\\ipykernel_8988\\215590487.py:72: FutureWarning: Downcasting behavior in `replace` is deprecated and will be removed in a future version. To retain the old behavior, explicitly call `result.infer_objects(copy=False)`. To opt-in to the future behavior, set `pd.set_option('future.no_silent_downcasting', True)`\n",
      "  point2 = point.replace({\"predict\": class_g})\n"
     ]
    },
    {
     "name": "stdout",
     "output_type": "stream",
     "text": [
      "Start index: 300\n",
      "Finished at index: 300\n",
      "saved image at index: Hbwtr_w1_20211022_120306.JPG\n"
     ]
    },
    {
     "name": "stderr",
     "output_type": "stream",
     "text": [
      "C:\\Users\\athellma\\AppData\\Local\\Temp\\ipykernel_8988\\215590487.py:72: FutureWarning: Downcasting behavior in `replace` is deprecated and will be removed in a future version. To retain the old behavior, explicitly call `result.infer_objects(copy=False)`. To opt-in to the future behavior, set `pd.set_option('future.no_silent_downcasting', True)`\n",
      "  point2 = point.replace({\"predict\": class_g})\n"
     ]
    },
    {
     "name": "stdout",
     "output_type": "stream",
     "text": [
      "Start index: 301\n",
      "Finished at index: 301\n",
      "saved image at index: Hbwtr_w1_20211023_115805.JPG\n"
     ]
    },
    {
     "name": "stderr",
     "output_type": "stream",
     "text": [
      "C:\\Users\\athellma\\AppData\\Local\\Temp\\ipykernel_8988\\215590487.py:72: FutureWarning: Downcasting behavior in `replace` is deprecated and will be removed in a future version. To retain the old behavior, explicitly call `result.infer_objects(copy=False)`. To opt-in to the future behavior, set `pd.set_option('future.no_silent_downcasting', True)`\n",
      "  point2 = point.replace({\"predict\": class_g})\n"
     ]
    },
    {
     "name": "stdout",
     "output_type": "stream",
     "text": [
      "Start index: 302\n",
      "Finished at index: 302\n",
      "saved image at index: Hbwtr_w1_20211024_115804.JPG\n"
     ]
    },
    {
     "name": "stderr",
     "output_type": "stream",
     "text": [
      "C:\\Users\\athellma\\AppData\\Local\\Temp\\ipykernel_8988\\215590487.py:72: FutureWarning: Downcasting behavior in `replace` is deprecated and will be removed in a future version. To retain the old behavior, explicitly call `result.infer_objects(copy=False)`. To opt-in to the future behavior, set `pd.set_option('future.no_silent_downcasting', True)`\n",
      "  point2 = point.replace({\"predict\": class_g})\n"
     ]
    },
    {
     "name": "stdout",
     "output_type": "stream",
     "text": [
      "Start index: 303\n",
      "Finished at index: 303\n",
      "saved image at index: Hbwtr_w1_20211025_115803.JPG\n"
     ]
    },
    {
     "name": "stderr",
     "output_type": "stream",
     "text": [
      "C:\\Users\\athellma\\AppData\\Local\\Temp\\ipykernel_8988\\215590487.py:72: FutureWarning: Downcasting behavior in `replace` is deprecated and will be removed in a future version. To retain the old behavior, explicitly call `result.infer_objects(copy=False)`. To opt-in to the future behavior, set `pd.set_option('future.no_silent_downcasting', True)`\n",
      "  point2 = point.replace({\"predict\": class_g})\n"
     ]
    },
    {
     "name": "stdout",
     "output_type": "stream",
     "text": [
      "Start index: 304\n",
      "Finished at index: 304\n",
      "saved image at index: Hbwtr_w1_20211025_120503.JPG\n"
     ]
    },
    {
     "name": "stderr",
     "output_type": "stream",
     "text": [
      "C:\\Users\\athellma\\AppData\\Local\\Temp\\ipykernel_8988\\215590487.py:72: FutureWarning: Downcasting behavior in `replace` is deprecated and will be removed in a future version. To retain the old behavior, explicitly call `result.infer_objects(copy=False)`. To opt-in to the future behavior, set `pd.set_option('future.no_silent_downcasting', True)`\n",
      "  point2 = point.replace({\"predict\": class_g})\n"
     ]
    },
    {
     "name": "stdout",
     "output_type": "stream",
     "text": [
      "Start index: 305\n",
      "Finished at index: 305\n",
      "saved image at index: Hbwtr_w1_20211026_120002.JPG\n"
     ]
    },
    {
     "name": "stderr",
     "output_type": "stream",
     "text": [
      "C:\\Users\\athellma\\AppData\\Local\\Temp\\ipykernel_8988\\215590487.py:72: FutureWarning: Downcasting behavior in `replace` is deprecated and will be removed in a future version. To retain the old behavior, explicitly call `result.infer_objects(copy=False)`. To opt-in to the future behavior, set `pd.set_option('future.no_silent_downcasting', True)`\n",
      "  point2 = point.replace({\"predict\": class_g})\n"
     ]
    },
    {
     "name": "stdout",
     "output_type": "stream",
     "text": [
      "Start index: 306\n",
      "Finished at index: 306\n",
      "saved image at index: Hbwtr_w1_20211027_120001.JPG\n"
     ]
    },
    {
     "name": "stderr",
     "output_type": "stream",
     "text": [
      "C:\\Users\\athellma\\AppData\\Local\\Temp\\ipykernel_8988\\215590487.py:72: FutureWarning: Downcasting behavior in `replace` is deprecated and will be removed in a future version. To retain the old behavior, explicitly call `result.infer_objects(copy=False)`. To opt-in to the future behavior, set `pd.set_option('future.no_silent_downcasting', True)`\n",
      "  point2 = point.replace({\"predict\": class_g})\n"
     ]
    },
    {
     "name": "stdout",
     "output_type": "stream",
     "text": [
      "Start index: 307\n",
      "Finished at index: 307\n",
      "saved image at index: Hbwtr_w1_20211028_120500.JPG\n"
     ]
    },
    {
     "name": "stderr",
     "output_type": "stream",
     "text": [
      "C:\\Users\\athellma\\AppData\\Local\\Temp\\ipykernel_8988\\215590487.py:72: FutureWarning: Downcasting behavior in `replace` is deprecated and will be removed in a future version. To retain the old behavior, explicitly call `result.infer_objects(copy=False)`. To opt-in to the future behavior, set `pd.set_option('future.no_silent_downcasting', True)`\n",
      "  point2 = point.replace({\"predict\": class_g})\n"
     ]
    },
    {
     "name": "stdout",
     "output_type": "stream",
     "text": [
      "Start index: 308\n",
      "Finished at index: 308\n",
      "saved image at index: Hbwtr_w1_20211029_120459.JPG\n"
     ]
    },
    {
     "name": "stderr",
     "output_type": "stream",
     "text": [
      "C:\\Users\\athellma\\AppData\\Local\\Temp\\ipykernel_8988\\215590487.py:72: FutureWarning: Downcasting behavior in `replace` is deprecated and will be removed in a future version. To retain the old behavior, explicitly call `result.infer_objects(copy=False)`. To opt-in to the future behavior, set `pd.set_option('future.no_silent_downcasting', True)`\n",
      "  point2 = point.replace({\"predict\": class_g})\n"
     ]
    },
    {
     "name": "stdout",
     "output_type": "stream",
     "text": [
      "Start index: 309\n",
      "Finished at index: 309\n",
      "saved image at index: Hbwtr_w1_20211031_115957.JPG\n"
     ]
    },
    {
     "name": "stderr",
     "output_type": "stream",
     "text": [
      "C:\\Users\\athellma\\AppData\\Local\\Temp\\ipykernel_8988\\215590487.py:72: FutureWarning: Downcasting behavior in `replace` is deprecated and will be removed in a future version. To retain the old behavior, explicitly call `result.infer_objects(copy=False)`. To opt-in to the future behavior, set `pd.set_option('future.no_silent_downcasting', True)`\n",
      "  point2 = point.replace({\"predict\": class_g})\n"
     ]
    }
   ],
   "source": [
    "# apply model over each image in wy_data\n",
    "## this step will take 6-8 minutes per image \n",
    "for index, row in wy_data.iloc[256:].iterrows(): #if you stopped mid-way, change the index \n",
    "    #index = row.index\n",
    "    try:\n",
    "        print(\"Start index:\", index)\n",
    "        filename= row.filename\n",
    "        img = image_dict[filename]\n",
    "        ind =np.where((img[:,:,0]!=0) & (img[:,:,1]!=0) & (img[:,:,2]!=0))\n",
    "        y_vals = ind[0]\n",
    "        x_vals = ind[1]\n",
    "        _= img[y_vals,x_vals,:]\n",
    "        r_vals, g_vals, b_vals = _[:,0], _[:,1], _[:,2]\n",
    "        point = pd.DataFrame({'x': x_vals,\n",
    "         'y': y_vals,\n",
    "         'R': r_vals,\n",
    "         'G': g_vals,\n",
    "         'B': b_vals,\n",
    "        })\n",
    "        point['temperature']= row.temperature\n",
    "        point['year']= row.year\n",
    "        point['week']= row.week\n",
    "        point['month']= row.month\n",
    "        point['season_autumn']= row.season_autumn\n",
    "        point['season_spring']= row.season_spring\n",
    "        point['season_winter']= row.season_winter\n",
    "        #predict model outputs \n",
    "        point[\"predict\"] = model.predict(point)\n",
    "        # % snow\n",
    "        total_snow_like = point[point.predict.isin(snow_like)].shape[0]\n",
    "        total_pixels =  point.shape[0]\n",
    "        total_pixels_ns = point[~point.predict.isin(not_submerged)].shape[0]\n",
    "        wy_data.loc[index,\"snow_ice_cover_frac\"] = total_snow_like/total_pixels\n",
    "        wy_data.loc[index,\"snow_ice_cover_frac_adj\"] = total_snow_like/total_pixels_ns #adjusted values are divided by just not submerged pixels\n",
    "        # % leaves \n",
    "        total_leaf_like = point[point.predict.isin(leaf_like)].shape[0]\n",
    "        wy_data.loc[index,\"leaf_cover_frac\"] = total_leaf_like/total_pixels \n",
    "        wy_data.loc[index,\"leaf_cover_frac_adj\"] = total_leaf_like/total_pixels_ns #adjusted values are divided by just not submerged pixels\n",
    "        # save data\n",
    "        wy_data.to_csv(save_files_path + \"time_series_updated_v2.csv\", index=False) #update to another version \n",
    "        print(\"Finished at index:\", index)\n",
    "\n",
    "        #save nparry \n",
    "        point.to_csv(save_images_path + re.sub(\".jpg\", \"_rc.csv\", row.filename, flags=re.IGNORECASE)) #raw classifed \n",
    "\n",
    "        #now save a classifed image: \n",
    "        img_cp = img.copy()\n",
    "        def apply_change(row):\n",
    "                pred = row[\"predict\"]\n",
    "                newR, newG, newB=colors[class_rgb[pred]]\n",
    "                img_cp[row.y,row.x,:] = [newR, newG,newB]\n",
    "        point.apply(lambda x: apply_change(x), axis=1)\n",
    "        \n",
    "        #add legend: \n",
    "        handles = []\n",
    "        for i, label in enumerate(list(class_rgb.keys())):\n",
    "            handles.append(plt.Rectangle((0, 0), 1, 1, color=list(class_rgb.values())[i]))\n",
    "        #make plot\n",
    "        f, ax = plt.subplots(1,2)\n",
    "        ax[0].imshow(img)\n",
    "        ax[1].imshow(img_cp)\n",
    "        ax[0].title.set_text(row.watershed + \": \" + format(dt.strptime(row.date, '%Y-%m-%d'), '%m-%d-%Y'))\n",
    "        plt.legend(handles, list(class_rgb.keys()),loc='lower center',bbox_to_anchor=(0.5, 1.05), ncol = 3)\n",
    "        f.set_figheight(7)\n",
    "        f.set_figwidth(15)\n",
    "        plt.savefig(save_images_path + re.sub(\".jpg\", \"_classifed.pdf\", row.filename, flags=re.IGNORECASE))\n",
    "        plt.close()\n",
    "        print(\"saved image at index:\", row.filename)\n",
    "\n",
    "        # now save the model output: (see if smaller)\n",
    "        #point2 = point.copy() #make a copy of point & replace with numeric \n",
    "        point2 = point.replace({\"predict\": class_g})\n",
    "        b_array = np.array([point2.x, point2.y, point2.predict])\n",
    "        np.savetxt(ext_drive_path + re.sub(\".jpg\", \"_cr.csv\", row.filename, flags=re.IGNORECASE), b_array, delimiter=\",\")\n",
    "\n",
    "    except:\n",
    "        print(\"Error at index:\", index)\n",
    "        continue"
   ]
  },
  {
   "cell_type": "code",
   "execution_count": 27,
   "metadata": {},
   "outputs": [
    {
     "data": {
      "image/png": "[encoded data removed]",
      "text/plain": [
       "<Figure size 640x480 with 1 Axes>"
      ]
     },
     "metadata": {},
     "output_type": "display_data"
    }
   ],
   "source": [
    "#view data from wy: \n",
    "df1 = pd.read_csv(save_files_path + \"time_series_updated.csv\")\n",
    "df2 = pd.read_csv(save_files_path + \"time_series_updated_v2.csv\")\n",
    "wy_timeseries = pd.concat([df1,df2])\n",
    "wy_timeseries.date = pd.to_datetime(wy_timeseries.date)\n",
    "plt.plot(wy_timeseries.date, wy_timeseries[\"snow_ice_cover_frac\"])\n",
    "plt.gcf().autofmt_xdate()"
   ]
  },
  {
   "cell_type": "code",
   "execution_count": 28,
   "metadata": {},
   "outputs": [
    {
     "data": {
      "image/png": "[encoded data removed]",
      "text/plain": [
       "<Figure size 640x480 with 1 Axes>"
      ]
     },
     "metadata": {},
     "output_type": "display_data"
    }
   ],
   "source": [
    "#view data from wy: \n",
    "plt.plot(wy_timeseries.date, wy_timeseries[\"leaf_cover_frac\"])\n",
    "plt.gcf().autofmt_xdate()"
   ]
  },
  {
   "cell_type": "code",
   "execution_count": 14,
   "metadata": {},
   "outputs": [
    {
     "name": "stdout",
     "output_type": "stream",
     "text": [
      "filename_inverted    invert_Hbwtr_w1_20210402_115934.JPG\n",
      "filename                    Hbwtr_w1_20210402_115934.JPG\n",
      "system                                             Hbwtr\n",
      "watershed                                             w1\n",
      "date                                          2021-04-02\n",
      "time                                            11:59:34\n",
      "pic_id                                        115934.JPG\n",
      "temperature                                           30\n",
      "year                                                2021\n",
      "week                                                  13\n",
      "month                                                  4\n",
      "season_autumn                                      False\n",
      "season_spring                                       True\n",
      "season_summer                                      False\n",
      "season_winter                                      False\n",
      "Name: 120, dtype: object\n",
      "Start index: 120\n",
      "Finished at index: 120\n"
     ]
    }
   ],
   "source": [
    "for index, row in wy_data.iloc[120:121].iterrows(): #if you stopped mid-way, change the index \n",
    "        #try:\n",
    "        #index = 0\n",
    "        #row = wy_data.iloc[256]\n",
    "        #index = row.index\n",
    "        print(row)\n",
    "\n",
    "        print(\"Start index:\", index)\n",
    "        filename= row.filename\n",
    "        img = image_dict[filename]\n",
    "        ind =np.where((img[:,:,0]!=0) & (img[:,:,1]!=0) & (img[:,:,2]!=0))\n",
    "        y_vals = ind[0]\n",
    "        x_vals = ind[1]\n",
    "        _= img[y_vals,x_vals,:]\n",
    "        r_vals, g_vals, b_vals = _[:,0], _[:,1], _[:,2]\n",
    "        point = pd.DataFrame({'x': x_vals,\n",
    "         'y': y_vals,\n",
    "         'R': r_vals,\n",
    "         'G': g_vals,\n",
    "         'B': b_vals,\n",
    "        })\n",
    "        point['temperature']= row.temperature\n",
    "        point['year']= row.year\n",
    "        point['week']= row.week\n",
    "        point['month']= row.month\n",
    "        point['season_autumn']= row.season_autumn\n",
    "        point['season_spring']= row.season_spring\n",
    "        point['season_winter']= row.season_winter\n",
    "        #predict model outputs \n",
    "        point[\"predict\"] = model.predict(point)\n",
    "        # % snow\n",
    "        total_snow_like = point[point.predict.isin(snow_like)].shape[0]\n",
    "        total_pixels =  point.shape[0]\n",
    "        total_pixels_ns = point[~point.predict.isin(not_submerged)].shape[0]\n",
    "        wy_data.loc[index,\"snow_ice_cover_frac\"] = total_snow_like/total_pixels\n",
    "        wy_data.loc[index,\"snow_ice_cover_frac_adj\"] = total_snow_like/total_pixels_ns #adjusted values are divided by just not submerged pixels\n",
    "        # % leaves \n",
    "        total_leaf_like = point[point.predict.isin(leaf_like)].shape[0]\n",
    "        wy_data.loc[index,\"leaf_cover_frac\"] = total_leaf_like/total_pixels \n",
    "        wy_data.loc[index,\"leaf_cover_frac_adj\"] = total_leaf_like/total_pixels_ns #adjusted values are divided by just not submerged pixels\n",
    "        # save data\n",
    "        #wy_data.to_csv(save_files_path + \"time_series_updated.csv\", index=False)\n",
    "        print(\"Finished at index:\", index)\n",
    "\n",
    "        "
   ]
  },
  {
   "cell_type": "code",
   "execution_count": 15,
   "metadata": {},
   "outputs": [
    {
     "name": "stdout",
     "output_type": "stream",
     "text": [
      "25535\n",
      "14980\n",
      "2423485\n",
      "filename_inverted          invert_Hbwtr_w1_20210402_115934.JPG\n",
      "filename                          Hbwtr_w1_20210402_115934.JPG\n",
      "system                                                   Hbwtr\n",
      "watershed                                                   w1\n",
      "date                                                2021-04-02\n",
      "time                                                  11:59:34\n",
      "pic_id                                              115934.JPG\n",
      "temperature                                                 30\n",
      "year                                                      2021\n",
      "week                                                        13\n",
      "month                                                        4\n",
      "season_autumn                                            False\n",
      "season_spring                                             True\n",
      "season_summer                                            False\n",
      "season_winter                                            False\n",
      "snow_ice_cover_frac                                   0.010536\n",
      "snow_ice_cover_frac_adj                               0.010536\n",
      "leaf_cover_frac                                       0.006181\n",
      "leaf_cover_frac_adj                                   0.006181\n",
      "Name: 120, dtype: object\n"
     ]
    }
   ],
   "source": [
    "print(total_snow_like)\n",
    "print(total_leaf_like)\n",
    "print(total_pixels)\n",
    "\n",
    "wy_data.loc[index,\"snow_ice_cover_frac\"] = total_snow_like/total_pixels\n",
    "print(wy_data.loc[120])"
   ]
  },
  {
   "cell_type": "code",
   "execution_count": 25,
   "metadata": {},
   "outputs": [
    {
     "name": "stdout",
     "output_type": "stream",
     "text": [
      "saved image at index: Hbwtr_w1_20210402_115934.JPG\n"
     ]
    }
   ],
   "source": [
    "        #now save a classifed image: \n",
    "        img_cp = img.copy()\n",
    "        def apply_change(row):\n",
    "                pred = row[\"predict\"]\n",
    "                newR, newG, newB=colors[class_rgb[pred]]\n",
    "                img_cp[row.y,row.x,:] = [newR, newG,newB]\n",
    "        point.apply(lambda x: apply_change(x), axis=1)\n",
    "        \n",
    "        #add legend: \n",
    "        handles = []\n",
    "        for i, label in enumerate(list(class_rgb.keys())):\n",
    "            handles.append(plt.Rectangle((0, 0), 1, 1, color=list(class_rgb.values())[i]))\n",
    "        #make plot\n",
    "        f, ax = plt.subplots(1,2)\n",
    "        ax[0].imshow(img)\n",
    "        ax[1].imshow(img_cp)\n",
    "        ax[0].title.set_text(row.watershed + \": \" + format(dt.strptime(row.date, '%Y-%m-%d'), '%m-%d-%Y'))\n",
    "        plt.legend(handles, list(class_rgb.keys()),loc='lower center',bbox_to_anchor=(0.5, 1.05), ncol = 3)\n",
    "        f.set_figheight(7)\n",
    "        f.set_figwidth(15)\n",
    "        plt.savefig(save_images_path + re.sub(\".jpg\", \"_classifed.pdf\", row.filename, flags=re.IGNORECASE))\n",
    "        plt.close()\n",
    "        print(\"saved image at index:\", row.filename)"
   ]
  },
  {
   "cell_type": "code",
   "execution_count": 24,
   "metadata": {},
   "outputs": [
    {
     "data": {
      "text/plain": [
       "'04-02-2021'"
      ]
     },
     "execution_count": 24,
     "metadata": {},
     "output_type": "execute_result"
    }
   ],
   "source": [
    " format(dt.strptime(row.date, '%Y-%m-%d'), '%m-%d-%Y')"
   ]
  },
  {
   "cell_type": "code",
   "execution_count": 48,
   "metadata": {},
   "outputs": [
    {
     "name": "stderr",
     "output_type": "stream",
     "text": [
      "C:\\Users\\athellma\\AppData\\Local\\Temp\\ipykernel_37228\\2952130232.py:19: FutureWarning: Downcasting behavior in `replace` is deprecated and will be removed in a future version. To retain the old behavior, explicitly call `result.infer_objects(copy=False)`. To opt-in to the future behavior, set `pd.set_option('future.no_silent_downcasting', True)`\n",
      "  point2 = point2.replace({\"predict\": class_g})\n"
     ]
    },
    {
     "name": "stdout",
     "output_type": "stream",
     "text": [
      "[[1543 1548 1549 ... 2622 2623 2640]\n",
      " [2208 2208 2208 ... 3247 3247 3247]\n",
      " [   6    6    6 ...    9    9    9]]\n"
     ]
    },
    {
     "ename": "AxisError",
     "evalue": "axis 2 is out of bounds for array of dimension 2",
     "output_type": "error",
     "traceback": [
      "\u001b[1;31m---------------------------------------------------------------------------\u001b[0m",
      "\u001b[1;31mAxisError\u001b[0m                                 Traceback (most recent call last)",
      "Cell \u001b[1;32mIn[48], line 24\u001b[0m\n\u001b[0;32m     22\u001b[0m \u001b[38;5;28mprint\u001b[39m(b_array)\n\u001b[0;32m     23\u001b[0m \u001b[38;5;66;03m#np.savetxt(save_files_path + \"foo.csv\", b_array, delimiter=\",\")\u001b[39;00m\n\u001b[1;32m---> 24\u001b[0m np_img \u001b[38;5;241m=\u001b[39m \u001b[43mnp\u001b[49m\u001b[38;5;241;43m.\u001b[39;49m\u001b[43msqueeze\u001b[49m\u001b[43m(\u001b[49m\u001b[43mb_array\u001b[49m\u001b[43m,\u001b[49m\u001b[43m \u001b[49m\u001b[43maxis\u001b[49m\u001b[38;5;241;43m=\u001b[39;49m\u001b[38;5;241;43m2\u001b[39;49m\u001b[43m)\u001b[49m  \u001b[38;5;66;03m# axis=2 is channel dimension \u001b[39;00m\n\u001b[0;32m     25\u001b[0m pil_img \u001b[38;5;241m=\u001b[39m Image\u001b[38;5;241m.\u001b[39mfromarray(np_img)\n\u001b[0;32m     26\u001b[0m \u001b[38;5;66;03m# Save the image\u001b[39;00m\n",
      "File \u001b[1;32mc:\\Users\\athellma\\OneDrive - University of North Carolina at Chapel Hill\\Documents\\Duke University\\Research\\_HBEF\\CameraTrapAnalysis\\hbwater_cameratrap_pheno\\.venv\\Lib\\site-packages\\numpy\\_core\\fromnumeric.py:1632\u001b[0m, in \u001b[0;36msqueeze\u001b[1;34m(a, axis)\u001b[0m\n\u001b[0;32m   1630\u001b[0m     \u001b[38;5;28;01mreturn\u001b[39;00m squeeze()\n\u001b[0;32m   1631\u001b[0m \u001b[38;5;28;01melse\u001b[39;00m:\n\u001b[1;32m-> 1632\u001b[0m     \u001b[38;5;28;01mreturn\u001b[39;00m \u001b[43msqueeze\u001b[49m\u001b[43m(\u001b[49m\u001b[43maxis\u001b[49m\u001b[38;5;241;43m=\u001b[39;49m\u001b[43maxis\u001b[49m\u001b[43m)\u001b[49m\n",
      "\u001b[1;31mAxisError\u001b[0m: axis 2 is out of bounds for array of dimension 2"
     ]
    }
   ],
   "source": [
    "# now save the model output \n",
    "#\n",
    "\n",
    "class_g = {'snow_o': 1,\n",
    "   'snow_t': 2,\n",
    "   'ice_t': 3,\n",
    "   'ice_o': 4,\n",
    "   'open_water_green': 5, \n",
    "   'open_water_dark': 6,\n",
    "   'open_water': 7,\n",
    "   'leaf_fall': 8,\n",
    "   'leaf_sub': 9,\n",
    "   'leaf_green': 10,\n",
    "   'riffle': 11,\n",
    "   'rock': 12,\n",
    "   'other': 13,\n",
    "   'not_submerged': 14}\n",
    "\n",
    "point2 = point.copy()\n",
    "point2 = point2.replace({\"predict\": class_g})\n",
    "\n",
    "b_array = np.array([point2.x, point2.y, point2.predict])\n",
    "print(b_array)\n",
    "#np.savetxt(save_files_path + \"foo.csv\", b_array, delimiter=\",\")\n",
    "np_img = np.squeeze(b_array, axis=2)  # axis=2 is channel dimension \n",
    "pil_img = Image.fromarray(np_img)\n",
    "# Save the image\n",
    "img.save(save_files_path + \"my_image.png\")\n",
    "#print(point)\n",
    "\n",
    "# Save the image\n",
    "#image.save(\"output.png\")"
   ]
  },
  {
   "cell_type": "code",
   "execution_count": 38,
   "metadata": {},
   "outputs": [
    {
     "data": {
      "text/plain": [
       "filename_inverted          invert_Hbwtr_w9_20210304_120438.jpg\n",
       "filename                          Hbwtr_w9_20210304_120438.jpg\n",
       "system                                                   Hbwtr\n",
       "watershed                                                   w9\n",
       "date                                       2021-03-04 00:00:00\n",
       "time                                                  12:04:38\n",
       "pic_id                                              120438.jpg\n",
       "temperature                                                 26\n",
       "year                                                      2021\n",
       "week                                                         9\n",
       "month                                                        3\n",
       "season_autumn                                            False\n",
       "season_spring                                            False\n",
       "season_summer                                            False\n",
       "season_winter                                             True\n",
       "snow_ice_cover_frac                                        NaN\n",
       "snow_ice_cover_frac_adj                                    NaN\n",
       "leaf_cover_frac                                            NaN\n",
       "leaf_cover_frac_adj                                        NaN\n",
       "Name: 118, dtype: object"
      ]
     },
     "execution_count": 38,
     "metadata": {},
     "output_type": "execute_result"
    }
   ],
   "source": [
    "wy_data.iloc[100]"
   ]
  }
 ],
 "metadata": {
  "kernelspec": {
   "display_name": ".venv",
   "language": "python",
   "name": "python3"
  },
  "language_info": {
   "codemirror_mode": {
    "name": "ipython",
    "version": 3
   },
   "file_extension": ".py",
   "mimetype": "text/x-python",
   "name": "python",
   "nbconvert_exporter": "python",
   "pygments_lexer": "ipython3",
   "version": "3.12.7"
  }
 },
 "nbformat": 4,
 "nbformat_minor": 2
}
